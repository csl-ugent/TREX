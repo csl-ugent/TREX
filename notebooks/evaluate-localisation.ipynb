{
 "cells": [
  {
   "cell_type": "markdown",
   "id": "0",
   "metadata": {},
   "source": [
    "# Evaluate crypto code localisation techniques"
   ]
  },
  {
   "cell_type": "markdown",
   "id": "1",
   "metadata": {},
   "source": [
    "## Setup\n",
    "\n",
    "Initial setup, such as importing required libraries, starting the database container, etc."
   ]
  },
  {
   "cell_type": "code",
   "execution_count": null,
   "id": "2",
   "metadata": {},
   "outputs": [],
   "source": [
    "# Automatically reload modules.\n",
    "%load_ext autoreload\n",
    "%autoreload 2\n",
    "\n",
    "import matplotlib.pyplot as plt\n",
    "\n",
    "# Add project root to Python search path.\n",
    "import os\n",
    "import sys\n",
    "module_path = os.path.abspath(os.path.join('..'))\n",
    "if module_path not in sys.path:\n",
    "    sys.path.append(module_path)\n",
    "\n",
    "# Import functions for this notebook.\n",
    "import notebooks.evaluate_localisation as evaluate_localisation\n",
    "\n",
    "# Load workspaces from database.\n",
    "import core.core\n",
    "import core.workspace\n",
    "\n",
    "# Widgets.\n",
    "import ipywidgets as widgets\n",
    "\n",
    "core.workspace.Workspace.load_from_db(core.core.Core())\n",
    "\n",
    "# LLDB module\n",
    "from modules.lldb import LLDBDebuggerModule\n",
    "lldb_module = LLDBDebuggerModule()\n",
    "lldb_module.run()"
   ]
  },
  {
   "cell_type": "markdown",
   "id": "3",
   "metadata": {},
   "source": [
    "## Configuration"
   ]
  },
  {
   "cell_type": "code",
   "execution_count": null,
   "id": "4",
   "metadata": {
    "tags": []
   },
   "outputs": [],
   "source": [
    "@widgets.interact(\n",
    "    drop_database = widgets.Checkbox(value = False, description = 'Drop database'),\n",
    "    drop_workspace = widgets.Checkbox(value = False, description = 'Drop workspace'),\n",
    "    rerun_collect_traces = widgets.Checkbox(value = False, description = 'Rerun trace collection'),\n",
    "    rerun_collect_data = widgets.Checkbox(value = False, description = 'Rerun data collection steps')\n",
    ")\n",
    "\n",
    "def update_configuration(**kwargs):\n",
    "    global CFG\n",
    "    CFG = kwargs"
   ]
  },
  {
   "cell_type": "markdown",
   "id": "5",
   "metadata": {},
   "source": [
    "## Technique"
   ]
  },
  {
   "cell_type": "markdown",
   "id": "6",
   "metadata": {},
   "source": [
    "**Attacker goal:** find the encryption code and encryption key.\n",
    "\n",
    "**Attacker strategy:**\n",
    "1. Find the basic block(s) implementing the encryption. The following features/techniques are used:\n",
    "    - *Caballero heuristic*: high amount of bit operations (bitshifts, bitwise XORs, ...).\n",
    "    - *Linear number of executions*: the number of executions of the basic block must scale linearly with the input size.\n",
    "    - *High randomness of produced/consumed data*: the data produced or consumed by instructions in the basic block must have high randomness\n",
    "    - *Differential analysis*: the basic block must be executed when encryption is enabled, and not executed when encryption is disabled (or another encryption algorithm is used).\n",
    "    \n",
    "2. Expand the set of encryption basic block(s) from Step 1 by adding basic blocks that fulfill the following requirements:\n",
    "    - *Close to encryption basic block(s) from Step 1*: The added basic block must have at least one instruction that is \"close\" to an instruction in an encryption basic block from Step 1. Closeness is calculated using the data dependence graph.\n",
    "\n",
    "3. Find the instructions that read the encryption key, starting from the encryption-related basic blocks from Step 2. These instructions must adhere to the following:\n",
    "    - *Part of encryption-related basic block*: the instruction must be a part of one of the encryption-related basic blocks from Step 2.\n",
    "    - *Instruction values*: The key is much smaller compared to the input, which means that instructions that read the key only read a limited number of different values.\n",
    "    - *Instruction category*: We filter out some instruction categories that won't use the key (e.g. control flow instructions), and focus on other instruction categories that are more likely to use the key because they are mathematical operations (e.g. bitwise operations, binary operators, etc.)\n",
    "    \n",
    "4. Place a breakpoint on the instruction(s) identified in step 3, and print their operands to reconstruct the key."
   ]
  },
  {
   "cell_type": "markdown",
   "id": "7",
   "metadata": {},
   "source": [
    "## Application 1: 7-Zip"
   ]
  },
  {
   "cell_type": "markdown",
   "id": "8",
   "metadata": {},
   "source": [
    "7-Zip is a file archiver application that optionally allows encrypting the resulting archives using AES.\n",
    "\n",
    "The attacker's goal is to find the code implementing AES, and to find the key used."
   ]
  },
  {
   "cell_type": "code",
   "execution_count": null,
   "id": "9",
   "metadata": {},
   "outputs": [],
   "source": [
    "app_szip = evaluate_localisation.applications.SzipApplication()\n",
    "app_szip.create_workspace(clear_db = CFG['drop_database'], clear_workspace = CFG['drop_workspace'])\n",
    "\n",
    "tec_szip = evaluate_localisation.technique.CryptoLocalisationTechnique(app_szip)"
   ]
  },
  {
   "cell_type": "markdown",
   "id": "10",
   "metadata": {},
   "source": [
    "### Collecting traces"
   ]
  },
  {
   "cell_type": "code",
   "execution_count": null,
   "id": "11",
   "metadata": {
    "tags": []
   },
   "outputs": [],
   "source": [
    "%%time\n",
    "szip_traces = tec_szip.collect_traces(force_record=CFG['rerun_collect_traces'])"
   ]
  },
  {
   "cell_type": "markdown",
   "id": "12",
   "metadata": {
    "tags": []
   },
   "source": [
    "### Step 1: Locating the basic block(s) implementing the encryption"
   ]
  },
  {
   "cell_type": "code",
   "execution_count": null,
   "id": "13",
   "metadata": {
    "tags": []
   },
   "outputs": [],
   "source": [
    "%%time\n",
    "if CFG['rerun_collect_data']:\n",
    "    tec_szip.step_1_localise_crypto_bbls_collect_data(szip_traces)"
   ]
  },
  {
   "cell_type": "code",
   "execution_count": null,
   "id": "14",
   "metadata": {
    "tags": []
   },
   "outputs": [],
   "source": [
    "%%time\n",
    "interesting_bbls_szip, basic_blocks_szip = tec_szip.step_1_localise_crypto_bbls_analyse_data(groundtruth_basic_blocks = [\n",
    "    ('7za', 0x1bc5e, 0x1bd44),\n",
    "    ('7za', 0x1bd44, 0x1be35),\n",
    "])"
   ]
  },
  {
   "cell_type": "markdown",
   "id": "15",
   "metadata": {},
   "source": [
    "### Step 2: Expanding the basic blocks"
   ]
  },
  {
   "cell_type": "code",
   "execution_count": null,
   "id": "16",
   "metadata": {
    "tags": []
   },
   "outputs": [],
   "source": [
    "%%time\n",
    "if CFG['rerun_collect_data']:\n",
    "    tec_szip.step_2_expand_basic_block_set_collect_data(szip_traces)"
   ]
  },
  {
   "cell_type": "code",
   "execution_count": null,
   "id": "17",
   "metadata": {},
   "outputs": [],
   "source": [
    "%%time\n",
    "basic_blocks_to_inspect_szip = tec_szip.step_2_expand_basic_block_set_analyse_data(starting_set = interesting_bbls_szip, max_depth = 1)\n",
    "print(f'basic_blocks_to_inspect = {basic_blocks_to_inspect_szip}')"
   ]
  },
  {
   "cell_type": "markdown",
   "id": "18",
   "metadata": {},
   "source": [
    "### Step 3: Finding the instruction that reads the encryption key"
   ]
  },
  {
   "cell_type": "code",
   "execution_count": null,
   "id": "19",
   "metadata": {
    "tags": []
   },
   "outputs": [],
   "source": [
    "%%time\n",
    "if CFG['rerun_collect_data']:\n",
    "    tec_szip.step_3_find_key_instruction_collect_data(szip_traces, basic_blocks_to_inspect = basic_blocks_to_inspect_szip)"
   ]
  },
  {
   "cell_type": "code",
   "execution_count": null,
   "id": "20",
   "metadata": {
    "tags": []
   },
   "outputs": [],
   "source": [
    "%%time\n",
    "instructions_szip = tec_szip.step_3_find_key_instruction_analyse_data(basic_blocks_to_inspect = basic_blocks_to_inspect_szip, groundtruth_instructions = [\n",
    "    # NOTE: The 'UInt32* w' argument of Aes_Encode at Aes.c:183 contains the subkeys.\n",
    "    # Also see: https://en.wikipedia.org/wiki/Advanced_Encryption_Standard#High-level_description_of_the_algorithm.\n",
    "    # 7-Zip uses AES-256, so AES with 14 rounds. Each round uses a different 16-byte roundkey.\n",
    "    \n",
    "    # (1) Initial round key addition\n",
    "    \n",
    "    # Aes.c lines 189-192: s[i] = src[i] ^ w[i]; for i = 0, 1, 2, 3\n",
    "    # -> executed one time, with one 16-byte roundkey => operand priority = -1.\n",
    "    ('7za', 0x1bc2d),\n",
    "    ('7za', 0x1bc34),\n",
    "    ('7za', 0x1bc3b),\n",
    "    ('7za', 0x1bc42),\n",
    "    \n",
    "    # (2) 13 Rounds of round key addition, split in 7 + 6 in the implementation of 7-Zip.\n",
    "    \n",
    "    # Aes.c line 196: HT16(m, s, 0); --> 4 XORs with w[0 + i]; for i = 0, 1, 2, 3\n",
    "    # -> executed 7 times, with seven 16-byte roundkeys => operand priority = -7.\n",
    "    ('7za', 0x1bc65),\n",
    "    ('7za', 0x1bc9a),\n",
    "    ('7za', 0x1bccf),\n",
    "    ('7za', 0x1bd0d),\n",
    "    \n",
    "    # Aes.c line 199: HT16(m, s, 4); --> 4 XORs with w[4 + i]; for i = 0, 1, 2, 3\n",
    "    # -> executed 6 times, with six 16-byte roundkeys => operand priority = -6.\n",
    "    ('7za', 0x1bd4c),\n",
    "    ('7za', 0x1bd8a),\n",
    "    ('7za', 0x1bdbf),\n",
    "    ('7za', 0x1bdfd),\n",
    "     \n",
    "    # (3) Final round key addition\n",
    "    \n",
    "    # Aes.c line 203: FT4(0); FT4(1); FT4(2); FT4(3); --> 4 XORs with w[i]; for i = 0, 1, 2, 3\n",
    "    # -> executed one time, with one 16-byte roundkey => operand priority = -1.\n",
    "    ('7za', 0x1be84),\n",
    "    ('7za', 0x1bed0),\n",
    "    ('7za', 0x1bf20),\n",
    "    ('7za', 0x1bf60),\n",
    "], starting_offset = 0x1bc25)"
   ]
  },
  {
   "cell_type": "markdown",
   "id": "21",
   "metadata": {},
   "source": [
    "### Step 4: Printing the key using a debugger"
   ]
  },
  {
   "cell_type": "code",
   "execution_count": null,
   "id": "22",
   "metadata": {},
   "outputs": [],
   "source": [
    "%%time\n",
    "tec_szip.step_4_print_key_analyse_data(lldb_module, [\n",
    "    # Instructions of minimum rank:\n",
    "    ('7za', 0x1bc2d, 'x/4bx \"$rdi + 0x10\"'),\n",
    "    ('7za', 0x1bc34, 'x/4bx \"$rdi + 0x14\"'),\n",
    "    ('7za', 0x1bc3b, 'x/4bx \"$rdi + 0x18\"'),\n",
    "    ('7za', 0x1bc42, 'x/4bx \"$rdi + 0x1c\"'),\n",
    "    \n",
    "    ('7za', 0x1be84, 'x/4bx \"$r10 + 0x10\"'),\n",
    "    ('7za', 0x1bed0, 'x/4bx \"$r10 + 0x14\"'),\n",
    "    ('7za', 0x1bf20, 'x/4bx \"$r10 + 0x18\"'),\n",
    "    ('7za', 0x1bf60, 'x/4bx \"$r10 + 0x1c\"'),\n",
    "    \n",
    "    ('7za', 0x1bd4c, 'x/4bx \"$r10 + 0x10\"'),\n",
    "    ('7za', 0x1bd8a, 'x/4bx \"$r10 + 0x14\"'),\n",
    "    ('7za', 0x1bdbf, 'x/4bx \"$r10 + 0x18\"'),\n",
    "    ('7za', 0x1bdfd, 'x/4bx \"$r10 + 0x1c\"'),\n",
    "    \n",
    "    ('7za', 0x1bc65, 'x/4bx \"$r10 + 0x0\"'),\n",
    "    ('7za', 0x1bc9a, 'x/4bx \"$r10 + 0x4\"'),\n",
    "    ('7za', 0x1bccf, 'x/4bx \"$r10 + 0x8\"'),\n",
    "    ('7za', 0x1bd0d, 'x/4bx \"$r10 + 0xc\"'),\n",
    "], max_breakpoint_hits = 128)"
   ]
  },
  {
   "cell_type": "markdown",
   "id": "23",
   "metadata": {},
   "source": [
    "We can hence obtain the 14+1 roundkeys used by 7-Zip by looking at the values read by these instructions:\n",
    "\n",
    "```\n",
    "roundkey  1/15: 0x65 0x11 0xf1 0x50 0x7a 0x3c 0x2a 0x98 0x2a 0xe6 0xde 0xf4 0xf6 0x58 0x18 0xed\n",
    "roundkey  2/15: 0x6c 0xf2 0x42 0x65 0x1a 0xca 0x19 0xd1 0x5c 0xeb 0xc6 0xa6 0x7a 0xe2 0x89 0x1d\n",
    "roundkey  3/15: 0xfc 0xb6 0x55 0x8a 0x86 0x8a 0x7f 0x12 0xac 0x6c 0xa1 0xe6 0x5a 0x34 0xb9 0x0b\n",
    "roundkey  4/15: 0xd2 0xea 0x14 0x4e 0xc8 0x20 0x0d 0x9f 0x94 0xcb 0xcb 0x39 0xee 0x29 0x42 0x24\n",
    "roundkey  5/15: 0x5b 0x9a 0x63 0xa2 0xdd 0x10 0x1c 0xb0 0x71 0x7c 0xbd 0x56 0x2b 0x48 0x04 0x5d\n",
    "roundkey  6/15: 0x23 0xb8 0xe6 0x02 0xeb 0x98 0xeb 0x9d 0x7f 0x53 0x20 0xa4 0x91 0x7a 0x62 0x80\n",
    "roundkey  7/15: 0x85 0x30 0xae 0x23 0x58 0x20 0xb2 0x93 0x29 0x5c 0x0f 0xc5 0x02 0x14 0x0b 0x98\n",
    "roundkey  8/15: 0x54 0x42 0xcd 0x44 0xbf 0xda 0x26 0xd9 0xc0 0x89 0x06 0x7d 0x51 0xf3 0x64 0xfd\n",
    "roundkey  9/15: 0x80 0x73 0xfa 0xf2 0xd8 0x53 0x48 0x61 0xf1 0x0f 0x47 0xa4 0xf3 0x1b 0x4c 0x3c\n",
    "roundkey 10/15: 0x59 0xed 0xe4 0xaf 0xe6 0x37 0xc2 0x76 0x26 0xbe 0xc4 0x0b 0x77 0x4d 0xa0 0xf6\n",
    "roundkey 11/15: 0x73 0x93 0xb8 0x07 0xab 0xc0 0xf0 0x66 0x5a 0xcf 0xb7 0xc2 0xa9 0xd4 0xfb 0xfe\n",
    "roundkey 12/15: 0x8a 0xa5 0xeb 0x14 0x6c 0x92 0x29 0x62 0x4a 0x2c 0xed 0x69 0x3d 0x61 0x4d 0x9f\n",
    "roundkey 13/15: 0xbc 0x70 0x63 0x20 0x17 0xb0 0x93 0x46 0x4d 0x7f 0x24 0x84 0xe4 0xab 0xdf 0x7a\n",
    "roundkey 14/15: 0xe3 0xc7 0x75 0xce 0x8f 0x55 0x5c 0xac 0xc5 0x79 0xb1 0xc5 0xf8 0x18 0xfc 0x5a\n",
    "roundkey 15/15: 0x51 0xc0 0xdd 0x61 0x46 0x70 0x4e 0x27 0x0b 0x0f 0x6a 0xa3 0xef 0xa4 0xb5 0xd9\n",
    "```\n",
    "\n",
    "You can also verify that these are AES roundkeys, e.g. using [aeskeyschedule](https://pypi.org/project/aeskeyschedule/).\n",
    "Since 7-Zip uses AES-256, the AES key is 256 bits (= 2x 16-byte roundkeys) long, so the key is:\n",
    "\n",
    "```\n",
    "roundkey  1/15: 0x65 0x11 0xf1 0x50 0x7a 0x3c 0x2a 0x98 0x2a 0xe6 0xde 0xf4 0xf6 0x58 0x18 0xed\n",
    "roundkey  2/15: 0x6c 0xf2 0x42 0x65 0x1a 0xca 0x19 0xd1 0x5c 0xeb 0xc6 0xa6 0x7a 0xe2 0x89 0x1d\n",
    "```\n",
    "\n",
    "We can use `aeskeyschedule` to print the other round keys:\n",
    "\n",
    "```bash\n",
    "$ pip3 install aeskeyschedule --user --upgrade\n",
    "$ aeskeyschedule '6511f1507a3c2a982ae6def4f65818ed6cf242651aca19d15cebc6a67ae2891d'\n",
    " 0: 6511f1507a3c2a982ae6def4f65818ed\n",
    " 1: 6cf242651aca19d15cebc6a67ae2891d\n",
    " 2: fcb6558a868a7f12ac6ca1e65a34b90b\n",
    " 3: d2ea144ec8200d9f94cbcb39ee294224\n",
    " 4: 5b9a63a2dd101cb0717cbd562b48045d\n",
    " 5: 23b8e602eb98eb9d7f5320a4917a6280\n",
    " 6: 8530ae235820b293295c0fc502140b98\n",
    " 7: 5442cd44bfda26d9c089067d51f364fd\n",
    " 8: 8073faf2d8534861f10f47a4f31b4c3c\n",
    " 9: 59ede4afe637c27626bec40b774da0f6\n",
    "10: 7393b807abc0f0665acfb7c2a9d4fbfe\n",
    "11: 8aa5eb146c9229624a2ced693d614d9f\n",
    "12: bc70632017b093464d7f2484e4abdf7a\n",
    "13: e3c775ce8f555cacc579b1c5f818fc5a\n",
    "14: 51c0dd6146704e270b0f6aa3efa4b5d9\n",
    "```\n",
    "\n",
    "To verify whether we have found the right key, we add the following excerpt to the end of `CKeyInfo::CalcKey()` in `CPP/7zip/Crypto/7zAes.cpp`, which implements the KDF:\n",
    "\n",
    "```cpp\n",
    "  std::cout << \"KEY: \";\n",
    "  for (unsigned int i = 0; i < kKeySize; ++i) {\n",
    "      std::cout << std::hex << (int)Key[i] << ' ';\n",
    "  }\n",
    "  std::cout << std::endl;\n",
    "```\n",
    "\n",
    "which prints the following to stdout:\n",
    "\n",
    "```\n",
    "KEY: 65 11 f1 50 7a 3c 2a 98 2a e6 de f4 f6 58 18 ed 6c f2 42 65 1a ca 19 d1 5c eb c6 a6 7a e2 89 1d \n",
    "```"
   ]
  },
  {
   "cell_type": "markdown",
   "id": "24",
   "metadata": {},
   "source": [
    "## Application 2: GPG"
   ]
  },
  {
   "cell_type": "markdown",
   "id": "25",
   "metadata": {},
   "source": [
    "GNU Privacy Guard (GnuPG or GPG for short) is a free application that implements the OpenPGP standard for encrypting and decrypting data.\n",
    "\n",
    "It supports several asymmetric cryptography algorithms (e.g. RSA, ElGamal, DSA,  ECDH, ECDSA), symmetric ciphers (e.g. 3DES, Blowfish, Twofish, AES), and cryptographic hash algorithms (e.g. SHA1, SHA2). GPG also supports optional compression (e.g. ZIP, ZLIB, BZIP2).\n",
    "\n",
    "We will encrypt a file using the symmetric AES cipher. The attacker's goal is then to find the code implementing AES, and to find the key that is used."
   ]
  },
  {
   "cell_type": "code",
   "execution_count": null,
   "id": "26",
   "metadata": {},
   "outputs": [],
   "source": [
    "app_gpg = evaluate_localisation.applications.GpgApplication()\n",
    "app_gpg.create_workspace(clear_db = CFG['drop_database'], clear_workspace = CFG['drop_workspace'])\n",
    "\n",
    "tec_gpg = evaluate_localisation.technique.CryptoLocalisationTechnique(app_gpg)"
   ]
  },
  {
   "cell_type": "markdown",
   "id": "27",
   "metadata": {},
   "source": [
    "### Collecting traces"
   ]
  },
  {
   "cell_type": "code",
   "execution_count": null,
   "id": "28",
   "metadata": {},
   "outputs": [],
   "source": [
    "%%time\n",
    "gpg_traces = tec_gpg.collect_traces(force_record=CFG['rerun_collect_traces'])"
   ]
  },
  {
   "cell_type": "markdown",
   "id": "29",
   "metadata": {},
   "source": [
    "### Step 1: Locating the basic block(s) implementing the encryption"
   ]
  },
  {
   "cell_type": "code",
   "execution_count": null,
   "id": "30",
   "metadata": {},
   "outputs": [],
   "source": [
    "%%time\n",
    "if CFG['rerun_collect_data']:\n",
    "    tec_gpg.step_1_localise_crypto_bbls_collect_data(gpg_traces)"
   ]
  },
  {
   "cell_type": "code",
   "execution_count": null,
   "id": "31",
   "metadata": {
    "tags": []
   },
   "outputs": [],
   "source": [
    "%%time\n",
    "interesting_bbls_gpg, basic_blocks_gpg = tec_gpg.step_1_localise_crypto_bbls_analyse_data(groundtruth_basic_blocks = [\n",
    "    ('libgcrypt.so.20', 0x411b0, 0x41200),\n",
    "    ('libgcrypt.so.20', 0x41200, 0x412cb),\n",
    "    ('libgcrypt.so.20', 0x412cb, 0x412f8),\n",
    "])"
   ]
  },
  {
   "cell_type": "markdown",
   "id": "32",
   "metadata": {},
   "source": [
    "### Step 2: Expanding the basic blocks"
   ]
  },
  {
   "cell_type": "code",
   "execution_count": null,
   "id": "33",
   "metadata": {},
   "outputs": [],
   "source": [
    "%%time\n",
    "if CFG['rerun_collect_data']:\n",
    "    tec_gpg.step_2_expand_basic_block_set_collect_data(gpg_traces)"
   ]
  },
  {
   "cell_type": "code",
   "execution_count": null,
   "id": "34",
   "metadata": {},
   "outputs": [],
   "source": [
    "%%time\n",
    "basic_blocks_to_inspect_gpg = tec_gpg.step_2_expand_basic_block_set_analyse_data(starting_set = interesting_bbls_gpg, max_depth = 2)\n",
    "print(f'basic_blocks_to_inspect = {basic_blocks_to_inspect_gpg}')"
   ]
  },
  {
   "cell_type": "markdown",
   "id": "35",
   "metadata": {},
   "source": [
    "### Step 3: Finding the instruction that reads the encryption key"
   ]
  },
  {
   "cell_type": "code",
   "execution_count": null,
   "id": "36",
   "metadata": {
    "tags": []
   },
   "outputs": [],
   "source": [
    "%%time\n",
    "if CFG['rerun_collect_data']:\n",
    "    tec_gpg.step_3_find_key_instruction_collect_data(gpg_traces, basic_blocks_to_inspect = basic_blocks_to_inspect_gpg)"
   ]
  },
  {
   "cell_type": "code",
   "execution_count": null,
   "id": "37",
   "metadata": {
    "tags": []
   },
   "outputs": [],
   "source": [
    "%%time\n",
    "instructions_gpg = tec_gpg.step_3_find_key_instruction_analyse_data(basic_blocks_to_inspect = basic_blocks_to_inspect_gpg, groundtruth_instructions = [\n",
    "    ('libgcrypt.so.20', 0x411f2), # pxor xmm2, xmmword [rdx]\n",
    "    ('libgcrypt.so.20', 0x4120a), # pxor xmm4, xmmword [rdx]\n",
    "    ('libgcrypt.so.20', 0x412d8), # pxor xmm4, xmmword [rdx]\n",
    "], starting_offset = 0x426e0)"
   ]
  },
  {
   "cell_type": "markdown",
   "id": "38",
   "metadata": {},
   "source": [
    "### Step 4: Printing the key using a debugger"
   ]
  },
  {
   "cell_type": "code",
   "execution_count": null,
   "id": "39",
   "metadata": {},
   "outputs": [],
   "source": [
    "%%time\n",
    "tec_gpg.step_4_print_key_analyse_data(lldb_module, [\n",
    "    ('libgcrypt.so.20', 0x4120a, 'x/16bx \"$rdx\"'),\n",
    "    ('libgcrypt.so.20', 0x411f2, 'x/16bx \"$rdx\"'),\n",
    "    ('libgcrypt.so.20', 0x412d8, 'x/16bx \"$rdx\"'),\n",
    "], max_breakpoint_hits = 64)"
   ]
  },
  {
   "cell_type": "markdown",
   "id": "40",
   "metadata": {},
   "source": [
    "Like for 7-Zip, you can reconstruct the round keys from these values.\n",
    "\n",
    "**However, by default, GPG uses a salted S2K function to derive an encryption key from the passphrase (`--s2k-mode 3`). This results in the key being different for different runs.**\n",
    "\n",
    "For more details, see Section 5.3 of RFC4880:\n",
    ">   If the encrypted session key is not present (which can be detected\n",
    ">   on the basis of packet length and S2K specifier size), then the S2K\n",
    ">   algorithm applied to the passphrase produces the session key for\n",
    ">   decrypting the file, using the symmetric cipher algorithm from the\n",
    ">   Symmetric-Key Encrypted Session Key packet.\n",
    ">\n",
    ">   [...]\n",
    ">\n",
    ">   Note: because an all-zero IV is used for this decryption, the S2K\n",
    ">   specifier MUST use a salt value, either a Salted S2K or an\n",
    ">   Iterated-Salted S2K.  The salt value will ensure that the decryption\n",
    ">   key is not repeated even if the passphrase is reused.\n",
    "\n",
    "To verify this is the key, you can also add the following function to `libgcrypt` at the top of `cipher/rijndael-ssse3-amd64.c` to print the key, but beware that the key is different for each run:\n",
    "```c\n",
    "static void aes_print_key(const RIJNDAEL_context *ctx)\n",
    "{\n",
    "  // Save all XMM registers so we don't overwrite them.\n",
    "  unsigned char regsavearea[16*16];\n",
    "\n",
    "  asm volatile(\n",
    "          \"movdqu %%xmm0, 0*16(%0)\\n\"\n",
    "          \"movdqu %%xmm1, 1*16(%0)\\n\"\n",
    "          \"movdqu %%xmm2, 2*16(%0)\\n\"\n",
    "          \"movdqu %%xmm3, 3*16(%0)\\n\"\n",
    "          \"movdqu %%xmm4, 4*16(%0)\\n\"\n",
    "          \"movdqu %%xmm5, 5*16(%0)\\n\"\n",
    "          \"movdqu %%xmm6, 6*16(%0)\\n\"\n",
    "          \"movdqu %%xmm7, 7*16(%0)\\n\"\n",
    "          \"movdqu %%xmm8, 8*16(%0)\\n\"\n",
    "          \"movdqu %%xmm9, 9*16(%0)\\n\"\n",
    "          \"movdqu %%xmm10, 10*16(%0)\\n\"\n",
    "          \"movdqu %%xmm11, 11*16(%0)\\n\"\n",
    "          \"movdqu %%xmm12, 12*16(%0)\\n\"\n",
    "          \"movdqu %%xmm13, 13*16(%0)\\n\"\n",
    "          \"movdqu %%xmm14, 14*16(%0)\\n\"\n",
    "          \"movdqu %%xmm15, 15*16(%0)\\n\"\n",
    "          :\n",
    "          : \"r\" (regsavearea)\n",
    "          : \"memory\");\n",
    "\n",
    "  // Print the key to stderr.\n",
    "  for (int round = 0; round < ctx->rounds; ++round)\n",
    "  {\n",
    "    fprintf(stderr, \"Round %d/%d key: \", round, ctx->rounds);\n",
    "\n",
    "    for (int i = 0; i < 4; ++i)\n",
    "    {\n",
    "      for (int j = 0; j < 4; ++j)\n",
    "      {\n",
    "        fprintf(stderr, \"%02x \", ctx->keyschenc[round][i][j]);\n",
    "      }\n",
    "    }\n",
    "\n",
    "    fprintf(stderr, \"\\n\");\n",
    "  }\n",
    "\n",
    "  asm volatile(\n",
    "          \"movdqu 0*16(%0), %%xmm0\\n\"\n",
    "          \"movdqu 1*16(%0), %%xmm1\\n\"\n",
    "          \"movdqu 2*16(%0), %%xmm2\\n\"\n",
    "          \"movdqu 3*16(%0), %%xmm3\\n\"\n",
    "          \"movdqu 4*16(%0), %%xmm4\\n\"\n",
    "          \"movdqu 5*16(%0), %%xmm5\\n\"\n",
    "          \"movdqu 6*16(%0), %%xmm6\\n\"\n",
    "          \"movdqu 7*16(%0), %%xmm7\\n\"\n",
    "          \"movdqu 8*16(%0), %%xmm8\\n\"\n",
    "          \"movdqu 9*16(%0), %%xmm9\\n\"\n",
    "          \"movdqu 10*16(%0), %%xmm10\\n\"\n",
    "          \"movdqu 11*16(%0), %%xmm11\\n\"\n",
    "          \"movdqu 12*16(%0), %%xmm12\\n\"\n",
    "          \"movdqu 13*16(%0), %%xmm13\\n\"\n",
    "          \"movdqu 14*16(%0), %%xmm14\\n\"\n",
    "          \"movdqu 15*16(%0), %%xmm15\\n\"\n",
    "          :\n",
    "          : \"r\" (regsavearea)\n",
    "          : \"memory\");\n",
    "}\n",
    "```\n",
    "and call it at the start of `do_vpaes_ssse3_enc`.\n",
    "\n",
    "Note that, unlike 7-Zip, you cannot use `aeskeyschedule` for verification, as the SSSE3 algorithm that is used for AES in libgcrypt uses a custom key schedule.\n",
    "For more information, see [1].\n",
    "\n",
    "There is also a proof-of-concept implementation available from the author at https://crypto.stanford.edu/vpaes/.\n",
    "You can add the following in `test/test.c` to verify the key:\n",
    "\n",
    "```\n",
    "  aes_key\n",
    "    *key  = aes_schedule((byte *) ikey, key_size, NULL,\n",
    "\t\t\t AES_DIRECTION_ENCRYPT),\n",
    "\n",
    "    *dkey = aes_schedule((byte *) ikey, key_size, NULL,\n",
    "\t\t\t AES_DIRECTION_DECRYPT);\n",
    "\n",
    "    for (int i = 0; i < 15; ++i) {\n",
    "        unsigned char buf[16];\n",
    "        __m128i subkey = key->_subkey[i];\n",
    "        memcpy(buf, &subkey, sizeof(buf));\n",
    "\n",
    "        printf(\"key %i/15: \", i);\n",
    "\n",
    "        for (int j = 0; j < 16; ++j) {\n",
    "            printf(\"%x \", buf[j]);\n",
    "        }\n",
    "\n",
    "        printf(\"\\n\");\n",
    "    }\n",
    "```\n",
    "and then pass the original key we get with libgcrypt in AESNI mode (and without salting in S2K!):\n",
    "```bash\n",
    "./test -K e5e9fa1ba31ecd1ae84f75caaa474f3a663f05f4848b7772d9ac64936354c4ea\n",
    "```\n",
    "\n",
    "which outputs the following values:\n",
    "```\n",
    "key 0/15: 68 f8 ef 1f a7 f7 1c 6f 88 b7 a4 de df bf b7 13\n",
    "key 1/15: 1d c6 69 1f 60 55 a 66 39 aa 46 cc 35 9d f7 fb\n",
    "key 2/15: 52 35 9a 61 d6 4e a5 b6 1b 13 44 b6 0 c7 37 fa\n",
    "key 3/15: 15 6a dd 25 2e ac 8c cb 4c 31 43 8f 22 9b ef b2\n",
    "key 4/15: 48 72 88 2 c5 ee 76 a3 85 80 69 99 de 95 5 74\n",
    "key 5/15: f2 a5 b6 b7 87 9 61 5e 90 38 84 20 e9 cf 30 63\n",
    "key 6/15: d3 c5 37 28 4d b 1a 7 93 ab 28 12 16 1e 76 ea\n",
    "key 7/15: 1 d fc 5b dd 99 c6 c9 16 67 7a 25 a4 6e 11 20\n",
    "key 8/15: 0 50 cd 52 16 15 8c e3 de 8b ff 90 93 db d2 cc\n",
    "key 9/15: 73 f5 5d 9b f5 5d c0 e0 b8 b b0 e0 47 c9 fa e5\n",
    "key 10/15: c5 74 97 2b 88 f4 40 bc d ea e4 58 c5 a4 6d e0\n",
    "key 11/15: fc aa c0 99 52 38 5b 59 b1 96 67 99 ad fa c6 22\n",
    "key 12/15: c6 a8 df 2c 15 57 c4 97 43 78 7b e7 dd d7 4d 0\n",
    "key 13/15: d5 f2 4f 69 dc ad 4f 10 36 5c 49 d2 c0 3f d4 ab\n",
    "key 14/15: f8 e2 c1 48 b2 8d b6 85 f5 86 a9 66 24 2b 74 7a\n",
    "```\n",
    "which match the values read by the groundtruth instructions.\n",
    "\n",
    "[1] M. Hamburg, “Accelerating AES with Vector Permute Instructions,” in Cryptographic Hardware and Embedded Systems - CHES 2009, vol. 5747, C. Clavier and K. Gaj, Eds. Berlin, Heidelberg: Springer Berlin Heidelberg, 2009, pp. 18–32. doi: 10.1007/978-3-642-04138-9_2."
   ]
  },
  {
   "cell_type": "markdown",
   "id": "41",
   "metadata": {},
   "source": [
    "## Ablation Study"
   ]
  },
  {
   "cell_type": "markdown",
   "id": "42",
   "metadata": {},
   "source": [
    "### 7-Zip"
   ]
  },
  {
   "cell_type": "code",
   "execution_count": null,
   "id": "43",
   "metadata": {
    "tags": []
   },
   "outputs": [],
   "source": [
    "app_szip = evaluate_localisation.applications.SzipApplication()\n",
    "app_szip.create_workspace(clear_db = CFG['drop_database'], clear_workspace = CFG['drop_workspace'])\n",
    "\n",
    "tec_szip = evaluate_localisation.technique.CryptoLocalisationTechnique(app_szip)"
   ]
  },
  {
   "cell_type": "code",
   "execution_count": null,
   "id": "44",
   "metadata": {
    "tags": []
   },
   "outputs": [],
   "source": [
    "%%time\n",
    "szip_traces = tec_szip.collect_traces(force_record=CFG['rerun_collect_traces'])"
   ]
  },
  {
   "cell_type": "code",
   "execution_count": null,
   "id": "45",
   "metadata": {
    "tags": []
   },
   "outputs": [],
   "source": [
    "%%time\n",
    "if CFG['rerun_collect_data']:\n",
    "    tec_szip.step_1_localise_crypto_bbls_collect_data(szip_traces)"
   ]
  },
  {
   "cell_type": "code",
   "execution_count": null,
   "id": "46",
   "metadata": {
    "tags": []
   },
   "outputs": [],
   "source": [
    "%%time\n",
    "if CFG['rerun_collect_data']:\n",
    "    tec_szip.step_2_expand_basic_block_set_collect_data(szip_traces)"
   ]
  },
  {
   "cell_type": "code",
   "execution_count": null,
   "id": "47",
   "metadata": {
    "tags": []
   },
   "outputs": [],
   "source": [
    "%%time\n",
    "szip_step_1_ablation_results = tec_szip.run_ablation_step_1(expected_basic_blocks=[\n",
    "    ('7za', 0x1bc5e, 0x1bd44),\n",
    "    ('7za', 0x1bd44, 0x1be35),\n",
    "]);"
   ]
  },
  {
   "cell_type": "code",
   "execution_count": null,
   "id": "48",
   "metadata": {
    "tags": []
   },
   "outputs": [],
   "source": [
    "%%time\n",
    "szip_step_2a_ablation_data,szip_step_2a_ablation_results = tec_szip.run_ablation_step_2a(step_1_ablation_results=szip_step_1_ablation_results, expected_basic_blocks=[\n",
    "    ('7za', 0x1bc5e, 0x1bd44),\n",
    "    ('7za', 0x1bd44, 0x1be35),\n",
    "], data_deps_depth=1);"
   ]
  },
  {
   "cell_type": "code",
   "execution_count": null,
   "id": "49",
   "metadata": {},
   "outputs": [],
   "source": [
    "ablation_szip_bbls_to_inspect = set()\n",
    "for k,v in szip_step_2a_ablation_results.items():\n",
    "    ablation_szip_bbls_to_inspect=ablation_szip_bbls_to_inspect.union(v)"
   ]
  },
  {
   "cell_type": "code",
   "execution_count": null,
   "id": "50",
   "metadata": {
    "tags": []
   },
   "outputs": [],
   "source": [
    "%%time\n",
    "if CFG['rerun_collect_data']:\n",
    "    tec_szip.step_3_find_key_instruction_collect_data(szip_traces, basic_blocks_to_inspect = ablation_szip_bbls_to_inspect)"
   ]
  },
  {
   "cell_type": "code",
   "execution_count": null,
   "id": "51",
   "metadata": {},
   "outputs": [],
   "source": [
    "%%time\n",
    "szip_step_2b_ablation_results = tec_szip.run_ablation_step_2b(step_2a_data = szip_step_2a_ablation_data,step_2a_results = szip_step_2a_ablation_results,expected_instructions=[\n",
    "    ('7za', 0x1bc2d),\n",
    "    ('7za', 0x1bc34),\n",
    "    ('7za', 0x1bc3b),\n",
    "    ('7za', 0x1bc42),\n",
    "    ('7za', 0x1bc65),\n",
    "    ('7za', 0x1bc9a),\n",
    "    ('7za', 0x1bccf),\n",
    "    ('7za', 0x1bd0d),\n",
    "    ('7za', 0x1bd4c),\n",
    "    ('7za', 0x1bd8a),\n",
    "    ('7za', 0x1bdbf),\n",
    "    ('7za', 0x1bdfd),\n",
    "    ('7za', 0x1be84),\n",
    "    ('7za', 0x1bed0),\n",
    "    ('7za', 0x1bf20),\n",
    "    ('7za', 0x1bf60),\n",
    "])"
   ]
  },
  {
   "cell_type": "code",
   "execution_count": null,
   "id": "52",
   "metadata": {
    "tags": []
   },
   "outputs": [],
   "source": [
    "%%time\n",
    "tec_szip.run_ablation_step_3(step_2_ablation_results=szip_step_2_ablation_results, expected_instructions=[\n",
    "    ('7za', 0x1bc2d),\n",
    "    ('7za', 0x1bc34),\n",
    "    ('7za', 0x1bc3b),\n",
    "    ('7za', 0x1bc42),\n",
    "    ('7za', 0x1bc65),\n",
    "    ('7za', 0x1bc9a),\n",
    "    ('7za', 0x1bccf),\n",
    "    ('7za', 0x1bd0d),\n",
    "    ('7za', 0x1bd4c),\n",
    "    ('7za', 0x1bd8a),\n",
    "    ('7za', 0x1bdbf),\n",
    "    ('7za', 0x1bdfd),\n",
    "    ('7za', 0x1be84),\n",
    "    ('7za', 0x1bed0),\n",
    "    ('7za', 0x1bf20),\n",
    "    ('7za', 0x1bf60),\n",
    "])"
   ]
  },
  {
   "cell_type": "markdown",
   "id": "53",
   "metadata": {},
   "source": [
    "### GPG"
   ]
  },
  {
   "cell_type": "code",
   "execution_count": null,
   "id": "54",
   "metadata": {
    "tags": []
   },
   "outputs": [],
   "source": [
    "app_gpg = evaluate_localisation.applications.GpgApplication()\n",
    "app_gpg.create_workspace(clear_db = CFG['drop_database'], clear_workspace = CFG['drop_workspace'])\n",
    "\n",
    "tec_gpg = evaluate_localisation.technique.CryptoLocalisationTechnique(app_gpg)"
   ]
  },
  {
   "cell_type": "code",
   "execution_count": null,
   "id": "55",
   "metadata": {
    "tags": []
   },
   "outputs": [],
   "source": [
    "%%time\n",
    "gpg_traces = tec_gpg.collect_traces(force_record=CFG['rerun_collect_traces'])"
   ]
  },
  {
   "cell_type": "code",
   "execution_count": null,
   "id": "56",
   "metadata": {
    "tags": []
   },
   "outputs": [],
   "source": [
    "%%time\n",
    "if CFG['rerun_collect_data']:\n",
    "    tec_gpg.step_1_localise_crypto_bbls_collect_data(gpg_traces)"
   ]
  },
  {
   "cell_type": "code",
   "execution_count": null,
   "id": "57",
   "metadata": {
    "tags": []
   },
   "outputs": [],
   "source": [
    "%%time\n",
    "if CFG['rerun_collect_data']:\n",
    "    tec_gpg.step_2_expand_basic_block_set_collect_data(gpg_traces)"
   ]
  },
  {
   "cell_type": "code",
   "execution_count": null,
   "id": "58",
   "metadata": {
    "tags": []
   },
   "outputs": [],
   "source": [
    "%%time\n",
    "gpg_step_1_ablation_results = tec_gpg.run_ablation_step_1(expected_basic_blocks=[\n",
    "    ('libgcrypt.so.20', 0x411b0, 0x41200),\n",
    "    ('libgcrypt.so.20', 0x41200, 0x412cb),\n",
    "    ('libgcrypt.so.20', 0x412cb, 0x412f8),\n",
    "]);"
   ]
  },
  {
   "cell_type": "code",
   "execution_count": null,
   "id": "59",
   "metadata": {
    "tags": []
   },
   "outputs": [],
   "source": [
    "%%time\n",
    "gpg_step_2a_ablation_data,gpg_step_2a_ablation_results = tec_gpg.run_ablation_step_2a(step_1_ablation_results=gpg_step_1_ablation_results, expected_basic_blocks=[\n",
    "    ('libgcrypt.so.20', 0x411b0, 0x41200),\n",
    "    ('libgcrypt.so.20', 0x41200, 0x412cb),\n",
    "    ('libgcrypt.so.20', 0x412cb, 0x412f8),\n",
    "], data_deps_depth=2);"
   ]
  },
  {
   "cell_type": "code",
   "execution_count": null,
   "id": "60",
   "metadata": {},
   "outputs": [],
   "source": [
    "ablation_gpg_bbls_to_inspect = set()\n",
    "for k,v in gpg_step_2a_ablation_results.items():\n",
    "    ablation_gpg_bbls_to_inspect=ablation_gpg_bbls_to_inspect.union(v)"
   ]
  },
  {
   "cell_type": "code",
   "execution_count": null,
   "id": "61",
   "metadata": {
    "tags": []
   },
   "outputs": [],
   "source": [
    "%%time\n",
    "if CFG['rerun_collect_data']:\n",
    "    tec_gpg.step_3_find_key_instruction_collect_data(gpg_traces, basic_blocks_to_inspect = ablation_gpg_bbls_to_inspect)"
   ]
  },
  {
   "cell_type": "code",
   "execution_count": null,
   "id": "62",
   "metadata": {
    "tags": []
   },
   "outputs": [],
   "source": [
    "%%time\n",
    "gpg_step_2b_ablation_results = tec_gpg.run_ablation_step_2b(step_2a_data = gpg_step_2a_ablation_data,step_2a_results = gpg_step_2a_ablation_results,expected_instructions=[\n",
    "    ('libgcrypt.so.20', 0x411f2),\n",
    "    ('libgcrypt.so.20', 0x4120a),\n",
    "    ('libgcrypt.so.20', 0x412d8),\n",
    "]);"
   ]
  },
  {
   "cell_type": "code",
   "execution_count": null,
   "id": "63",
   "metadata": {
    "tags": []
   },
   "outputs": [],
   "source": [
    "%%time\n",
    "tec_gpg.run_ablation_step_3(step_2_ablation_results=gpg_step_2a_ablation_results, expected_instructions=[\n",
    "    ('libgcrypt.so.20', 0x411f2),\n",
    "    ('libgcrypt.so.20', 0x4120a),\n",
    "    ('libgcrypt.so.20', 0x412d8),\n",
    "])"
   ]
  },
  {
   "cell_type": "code",
   "execution_count": null,
   "id": "64",
   "metadata": {},
   "outputs": [],
   "source": []
  }
 ],
 "metadata": {
  "kernelspec": {
   "display_name": "Python 3 (ipykernel)",
   "language": "python",
   "name": "python3"
  },
  "language_info": {
   "codemirror_mode": {
    "name": "ipython",
    "version": 3
   },
   "file_extension": ".py",
   "mimetype": "text/x-python",
   "name": "python",
   "nbconvert_exporter": "python",
   "pygments_lexer": "ipython3",
   "version": "3.10.12"
  },
  "toc-autonumbering": true,
  "toc-showcode": false,
  "toc-showtags": false
 },
 "nbformat": 4,
 "nbformat_minor": 5
}
