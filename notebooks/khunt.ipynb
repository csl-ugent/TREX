{
 "cells": [
  {
   "cell_type": "markdown",
   "id": "accepted-mumbai",
   "metadata": {},
   "source": [
    "# K-Hunt type attack"
   ]
  },
  {
   "cell_type": "markdown",
   "id": "important-lebanon",
   "metadata": {},
   "source": [
    "## Setup"
   ]
  },
  {
   "cell_type": "markdown",
   "id": "genetic-associate",
   "metadata": {},
   "source": [
    "Initial setup, such as importing required libraries, starting the database container, etc."
   ]
  },
  {
   "cell_type": "code",
   "execution_count": null,
   "id": "after-wealth",
   "metadata": {},
   "outputs": [],
   "source": [
    "# Automatically reload modules.\n",
    "%load_ext autoreload\n",
    "%autoreload 2\n",
    "\n",
    "# Add project root to Python search path.\n",
    "import os\n",
    "import sys\n",
    "module_path = os.path.abspath(os.path.join('..'))\n",
    "if module_path not in sys.path:\n",
    "    sys.path.append(module_path)\n",
    "    \n",
    "# Python imports.\n",
    "import subprocess\n",
    "import shutil\n",
    "import math\n",
    "import hashlib\n",
    "import time\n",
    "import random\n",
    "import os\n",
    "\n",
    "# Plotting.\n",
    "import matplotlib.pyplot as plt\n",
    "%matplotlib inline\n",
    "\n",
    "# Widgets.\n",
    "import ipywidgets as widgets\n",
    "\n",
    "# Data analysis.\n",
    "import numpy as np\n",
    "import scipy.stats\n",
    "import pandas as pd\n",
    "import seaborn as sns\n",
    "\n",
    "# Other libraries\n",
    "import cxxfilt\n",
    "\n",
    "# Import MATE framework.\n",
    "from core.core import Core\n",
    "from core.workspace import Workspace\n",
    "\n",
    "from modules.caballero import Caballero as CaballeroModule\n",
    "from modules.memory_buffers import MemoryBuffersModule\n",
    "from modules.basic_block_profiler import BasicBlockProfilerModule\n",
    "from modules.memory_instructions_profiler import MemoryInstructionsProfilerModule\n",
    "from modules.lldb import LLDBDebuggerModule, lldb\n",
    "from modules.data_dependencies import DataDependenciesModule\n",
    "from modules.instruction_info import InstructionInfoModule\n",
    "from modules.branch_profiler import BranchProfilerModule\n",
    "\n",
    "from query_language.expressions import *\n",
    "from query_language.node_matchers import *\n",
    "from query_language.traversal_matchers import *\n",
    "from query_language.get_query import get_query\n",
    "\n",
    "# Load workspaces from database.\n",
    "Workspace.load_from_db(Core())\n",
    "\n",
    "# LLDB module\n",
    "lldb_module = LLDBDebuggerModule()\n",
    "lldb_module.run()"
   ]
  },
  {
   "cell_type": "markdown",
   "id": "791df24f-1a7c-444b-91dc-04ddb50169c8",
   "metadata": {},
   "source": [
    "## Configuration"
   ]
  },
  {
   "cell_type": "code",
   "execution_count": null,
   "id": "961fbdb0-5d09-4fe0-a0ab-2cbe27de9a94",
   "metadata": {},
   "outputs": [],
   "source": [
    "@widgets.interact(\n",
    "    run_caballero = widgets.Checkbox(value = True, description = 'Run Caballero'),\n",
    "    run_basic_block_profiler = widgets.Checkbox(value = True, description = 'Run Basic Block Profiler'),\n",
    "    run_memory_instructions_profiler = widgets.Checkbox(value = True, description = 'Run Memory Instructions Profiler'),\n",
    "    run_data_dependencies = widgets.Checkbox(value = True, description = 'Run Data Dependencies'),\n",
    "    use_data_dependencies_shortcuts = widgets.Checkbox(value = False, description = 'Use shortcut dependencies'),\n",
    "    run_instruction_info = widgets.Checkbox(value = True, description = 'Run Instruction Info'),\n",
    "    run_branch_profiler = widgets.Checkbox(value = True, description = 'Run Branch Profiler')\n",
    ")\n",
    "\n",
    "def update_configuration(**kwargs):\n",
    "    global CFG\n",
    "    CFG = kwargs"
   ]
  },
  {
   "cell_type": "markdown",
   "id": "particular-trigger",
   "metadata": {},
   "source": [
    "## Benchmarks"
   ]
  },
  {
   "cell_type": "markdown",
   "id": "identical-carbon",
   "metadata": {},
   "source": [
    "This section runs the benchmarks, and saves all collected data to the database."
   ]
  },
  {
   "cell_type": "markdown",
   "id": "fuzzy-deputy",
   "metadata": {},
   "source": [
    "### 7-Zip"
   ]
  },
  {
   "cell_type": "markdown",
   "id": "guided-procurement",
   "metadata": {},
   "source": [
    "7-Zip is a file archiver that also supports encryption. As a benchmark, we use the following `7za` call:\n",
    "\n",
    "```bash\n",
    "7za -mmt1 -psecret a test.7z test.pdf\n",
    "```\n",
    "\n",
    "The `-mmt` option sets the maximum number of CPU threads to `1`, and the `-p` option  sets the password to use for encryption to `secret`."
   ]
  },
  {
   "cell_type": "code",
   "execution_count": null,
   "id": "5d7da3b7-b218-4f44-9382-bce390681a19",
   "metadata": {},
   "outputs": [],
   "source": [
    "sizes_kb = [1, 2, 5, 10, 20, 50, 100, 200, 500, 1000]"
   ]
  },
  {
   "cell_type": "code",
   "execution_count": null,
   "id": "behind-fiction",
   "metadata": {},
   "outputs": [],
   "source": [
    "def remove_output_file():\n",
    "    # We need to remove the output file before every run,\n",
    "    # otherwise 7-Zip will just exit.\n",
    "    workspace = Workspace.current\n",
    "    archive_path = os.path.join(workspace.path, 'test.7z')\n",
    "    \n",
    "    if os.path.isfile(archive_path):\n",
    "        os.remove(archive_path)\n",
    "    \n",
    "def create_input_file(name, size_in_bytes):\n",
    "    random.seed(0)\n",
    "    \n",
    "    # NOTE: We need to write random data to ensure that the compressed size\n",
    "    # scales linearly with this size of the input file.\n",
    "    with open(name, 'wb') as f:\n",
    "        f.write(os.urandom(size_in_bytes))\n",
    "\n",
    "def run_sevenzip_demo():\n",
    "    executable_path = Core().get_subdirectory('demos', 'sevenzip', '7za')\n",
    "\n",
    "    Workspace.create_new('szip', executable_path)\n",
    "    Workspace.select('szip')\n",
    "    workspace = Workspace.current\n",
    "\n",
    "    pdf_path = Core().get_subdirectory('demos', 'sevenzip', 'test.pdf')\n",
    "    shutil.copyfile(pdf_path, os.path.join(workspace.path, 'test.pdf'))\n",
    "\n",
    "    def get_binary_params(input_file, perform_encryption = True):\n",
    "        if perform_encryption:\n",
    "            return f'-mmt1 -psecret a test.7z {input_file}'\n",
    "        else:\n",
    "            return f'-mmt1 a test.7z {input_file}'\n",
    "\n",
    "    # Create input files of different sizes\n",
    "    for size_kb in sizes_kb:\n",
    "        size_in_bytes = size_kb * 1000\n",
    "        input_path = os.path.join(workspace.path, f'input_{size_in_bytes}')\n",
    "        create_input_file(input_path, size_in_bytes)\n",
    "        \n",
    "    sizes = [size_kb * 1000 for size_kb in sizes_kb]\n",
    "        \n",
    "    # Create pinballs\n",
    "    traces = {}\n",
    "    \n",
    "    # Run the application with encryption, for different inputs\n",
    "    for size in sizes:\n",
    "        remove_output_file()\n",
    "        binary_params = get_binary_params(f'input_{size}')\n",
    "        recorder = Workspace.current.create_recorder(binary_params, pinball_suffix=f'input_{size}')\n",
    "        traces[f'input_{size}'] = recorder\n",
    "        %time recorder.run()\n",
    "\n",
    "    # Run the application once more, with the smallest input but with encryption disabled\n",
    "    remove_output_file()\n",
    "    binary_params = get_binary_params(f'input_{sizes[0]}', perform_encryption = False)\n",
    "    recorder = Workspace.current.create_recorder(binary_params, pinball_suffix=f'input_{sizes[0]}_noenc')\n",
    "    traces[f'input_{sizes[0]}_noenc'] = recorder\n",
    "    %time recorder.run()\n",
    "\n",
    "    # (1) Caballero\n",
    "    if CFG['run_caballero']:\n",
    "        caballero = CaballeroModule(ratio=0.3, binary_params='', timeout=0, recorder=traces[f'input_{sizes[0]}'])\n",
    "        %time caballero.run()\n",
    "\n",
    "    for size in sizes:\n",
    "        # (2) Basic block profiler\n",
    "        if CFG['run_basic_block_profiler']:\n",
    "            bbl_profiler = BasicBlockProfilerModule(binary_params='', timeout=0, properties_prefix=f'input_{size}_', recorder=traces[f'input_{size}'])\n",
    "            %time bbl_profiler.run()\n",
    "\n",
    "        # (3) Memory instructions profiler\n",
    "        if CFG['run_memory_instructions_profiler']:\n",
    "            mem_ins_profiler = MemoryInstructionsProfilerModule(binary_params='', timeout=0, properties_prefix=f'input_{size}_', recorder=traces[f'input_{size}'])\n",
    "            %time mem_ins_profiler.run()\n",
    "\n",
    "    # run basic block profiler once more, but without enabling encryption in 7-Zip this time\n",
    "    if CFG['run_basic_block_profiler']:\n",
    "        bbl_profiler = BasicBlockProfilerModule(binary_params='', timeout=0, properties_prefix=f'input_{sizes[0]}_noenc_', recorder=traces[f'input_{sizes[0]}_noenc'])\n",
    "        %time bbl_profiler.run()\n",
    "\n",
    "    # (4) Data dependencies\n",
    "    if CFG['run_data_dependencies']:\n",
    "        data_deps = DataDependenciesModule(binary_params='', timeout=0, shortcuts = CFG['use_data_dependencies_shortcuts'], recorder=traces[f'input_{sizes[0]}'])\n",
    "        %time data_deps.run()\n",
    "\n",
    "    # (5) Instruction info\n",
    "    if CFG['run_instruction_info']:\n",
    "        instr_info = InstructionInfoModule(binary_params='', timeout=0, recorder=traces[f'input_{sizes[0]}'])\n",
    "        %time instr_info.run()\n",
    "        \n",
    "    # (6) Branch profiler\n",
    "    if CFG['run_branch_profiler']:\n",
    "        branch_profiler = BranchProfilerModule(binary_params='', timeout=0, recorder=traces[f'input_{sizes[0]}'])\n",
    "        %time branch_profiler.run()\n",
    "\n",
    "%time run_sevenzip_demo()"
   ]
  },
  {
   "cell_type": "markdown",
   "id": "architectural-wells",
   "metadata": {},
   "source": [
    "## Overview of K-Hunt"
   ]
  },
  {
   "cell_type": "markdown",
   "id": "compound-collaboration",
   "metadata": {},
   "source": [
    "### Introduction\n",
    "\n",
    "This notebook imitates the approach of K-Hunt to find cryptographic code in executables.\n",
    "\n",
    "K-Hunt is described in the 2018 paper \"K-Hunt: Pinpointing Insecure Cryptographic Keys from Execution Traces\" by Li et al.\n",
    "\n",
    "K-Hunt uses a dynamic binary analysis consisting of three Pin plugins that can be used to locate cryptographic code and keys in binary programs, and to detect insecure use of such keys.\n",
    "\n",
    "The original repository is hosted on [GitHub](https://github.com/GoSSIP-SJTU/k-hunt).\n",
    "\n",
    "According to the authors, K-Hunt can locate keys in symmetric ciphers, asymmetric ciphers, stream ciphers, and digital signatures, in both standard and proprietary algorithms."
   ]
  },
  {
   "cell_type": "markdown",
   "id": "adopted-privacy",
   "metadata": {},
   "source": [
    "## Overview of the approach\n",
    "\n",
    "K-Hunt consists of two phases: pinpointing the cryptographic key (described in Section 4.1 of the paper) and detecting insecure use of keys (described in Section 4.2 of the paper).\n",
    "\n",
    "The former requires a lightweight dynamic binary analysis, whereas the second involves a more heavyweight dynamic binary analysis.\n",
    "\n",
    "### Phase I: Pinpointing cryptographic keys\n",
    "\n",
    "This phase is split in two steps: locating the basic blocks related to crypto, and locating the crypto keys used by those basic blocks.\n",
    "\n",
    "Each step uses different properties of crypto code and buffers to differentiate them from non-crypto code and buffers.\n",
    "\n",
    "1. Identify cryptographic basic blocks\n",
    "    - High ratio of arithmetic, bitwise, or AES instructions\n",
    "    - Number of executions of the basic block is proportional to the input size\n",
    "    - Data consumed and/or produced has high randomness\n",
    "\n",
    "K-Hunt starts with the set of all basic blocks in the application, and iteratively removes basic blocks that do not satisfy one of these three conditions.\n",
    "\n",
    "K-Hunt can also optionally use differential testing by comparing two execution traces: one where the program was run with an input that triggers the crypto operations, and one where the program was run with an input that does not trigger the crypto operations.\n",
    "For example, one can run 7-Zip with and without file encryption enabled.\n",
    "Basic blocks that do not appear in the execution with crypto operations, or basic blocks that occur in both executions, are removed from the set of candidate basic blocks.\n",
    "\n",
    "2. Identify cryptographic keys from the cryptographic basic blocks\n",
    "    - First, examine the data accessed by the cryptographic basic blocks\n",
    "    - These basic blocks act on two types of data: the crypto key, and something else (cyphertext in the case of decryption, plaintext for encryption, message for signing, ...)\n",
    "    - We need to differentiate between these two, which K-Hunt does based on:\n",
    "        - Size: key buffers are smaller, and their size is constant w.r.t. the input size\n",
    "        - Data source: key buffers have a different data source (Random Number Generator) than the other buffers (file, network, ...)\n",
    "\n",
    "### Phase II: Detecting insecure keys\n",
    "\n",
    "K-Hunt detects three types of insecurely used keys:\n",
    "1. Deterministically generated keys: keys generated from a source without enough entropy\n",
    "2. Insecurely negotiated keys: a shared key where one party can generate a key without involving the other party\n",
    "3. Recoverable key: keys that are kept in memory for an inordinate amount of time\n",
    "\n",
    "In this phase, insecure usage of keys is detected using dynamic taint analysis at the function level:\n",
    "\n",
    "1. Check the origin of the key (to detect deterministically generated keys and insecurely negotiated keys)\n",
    "2. Check the propagation of the key (to detect improperly cleaned up key)"
   ]
  },
  {
   "cell_type": "markdown",
   "id": "preceding-reggae",
   "metadata": {},
   "source": [
    "## Experiment"
   ]
  },
  {
   "cell_type": "markdown",
   "id": "occupational-boxing",
   "metadata": {},
   "source": [
    "### 7-zip"
   ]
  },
  {
   "cell_type": "markdown",
   "id": "scientific-least",
   "metadata": {},
   "source": [
    "#### Finding cryptographic code"
   ]
  },
  {
   "cell_type": "code",
   "execution_count": null,
   "id": "regulated-retirement",
   "metadata": {},
   "outputs": [],
   "source": [
    "Workspace.select('szip')\n",
    "db = Workspace.current.graph"
   ]
  },
  {
   "cell_type": "markdown",
   "id": "aware-vector",
   "metadata": {},
   "source": [
    "Let's first see how many basic blocks were recorded by our Pin plugins."
   ]
  },
  {
   "cell_type": "code",
   "execution_count": null,
   "id": "institutional-restriction",
   "metadata": {},
   "outputs": [],
   "source": [
    "print(db.run_evaluate('''\n",
    "             MATCH (bbl:BasicBlock)\n",
    "             RETURN COUNT(*)\n",
    "             '''))"
   ]
  },
  {
   "cell_type": "markdown",
   "id": "proper-nebraska",
   "metadata": {},
   "source": [
    "First, let's select all basic blocks that are detected by the Caballero heuristic."
   ]
  },
  {
   "cell_type": "code",
   "execution_count": null,
   "id": "presidential-symphony",
   "metadata": {},
   "outputs": [],
   "source": [
    "data = db.run_list('''\n",
    "              MATCH (bbl:BasicBlock)\n",
    "              WHERE bbl.caballero = True\n",
    "              RETURN bbl\n",
    "              ''')\n",
    "\n",
    "print(f\"Found {len(data)} basic block(s) annotated by Caballero.\")"
   ]
  },
  {
   "cell_type": "markdown",
   "id": "found-symphony",
   "metadata": {},
   "source": [
    "Let's see how many times the AES basic block is executed for different input sizes."
   ]
  },
  {
   "cell_type": "code",
   "execution_count": null,
   "id": "supreme-incident",
   "metadata": {
    "tags": []
   },
   "outputs": [],
   "source": [
    "def plot_num_executions(entry):\n",
    "    x_labels = np.array([1000 * size_kb for size_kb in sizes_kb])\n",
    "    y_labels = np.array([entry['bbl'][f'input_{x}_num_executions'] for x in x_labels])\n",
    "    \n",
    "    plt.title('Number of executions of AES basic block i.f.o. input size')\n",
    "    plt.xlabel('Input size [bytes]')\n",
    "    plt.ylabel('Number of executions')\n",
    "    plt.xscale('log')\n",
    "    plt.yscale('log')\n",
    "    plt.plot(x_labels, y_labels, 'o-')\n",
    "\n",
    "for entry in data:\n",
    "    if entry['bbl']['image_name'] == '7za' and entry['bbl']['image_offset_begin'] in [0xad84]:\n",
    "        plot_num_executions(entry)"
   ]
  },
  {
   "cell_type": "markdown",
   "id": "sustainable-embassy",
   "metadata": {},
   "source": [
    "Next, let's look at the subset of those basic blocks of which the number of executions scales linearly with the input size."
   ]
  },
  {
   "cell_type": "code",
   "execution_count": null,
   "id": "legitimate-japan",
   "metadata": {},
   "outputs": [],
   "source": [
    "def calculate_rsquared(entry):\n",
    "    x_labels = np.array([1000 * size_kb for size_kb in sizes_kb])\n",
    "    y_labels = np.array([entry['bbl'][f'input_{x}_num_executions'] for x in x_labels])\n",
    "    \n",
    "    # Remove entries with None\n",
    "    mask = y_labels != None\n",
    "    \n",
    "    x_labels = x_labels[mask]\n",
    "    y_labels = y_labels[mask]\n",
    "        \n",
    "    # Calculate linear regression    \n",
    "    res = scipy.stats.linregress(x_labels.astype(float), y_labels.astype(float))\n",
    "    \n",
    "    # Return R^2 value\n",
    "    return res.rvalue ** 2\n",
    "\n",
    "def plot_rsquared_distribution():\n",
    "    x = [calculate_rsquared(entry) for entry in data]\n",
    "    \n",
    "    plt.title('Distribution of $R^2$ values of num_executions i.f.o. input size')\n",
    "    plt.xlabel(\"Pearson's correlation coefficient ($R^2$)\")\n",
    "    plt.ylabel('Absolute frequency')\n",
    "    plt.hist(x, bins=20)\n",
    "    \n",
    "plot_rsquared_distribution()"
   ]
  },
  {
   "cell_type": "markdown",
   "id": "daily-ghost",
   "metadata": {},
   "source": [
    "Let's remove all basic blocks that have an $R^2$ lower than $0.8$."
   ]
  },
  {
   "cell_type": "code",
   "execution_count": null,
   "id": "qualified-thriller",
   "metadata": {},
   "outputs": [],
   "source": [
    "data_1 = [entry for entry in data if calculate_rsquared(entry) > 0.8]\n",
    "\n",
    "print(f'Reduced set from {len(data)} to {len(data_1)} basic block(s)')"
   ]
  },
  {
   "cell_type": "markdown",
   "id": "whole-religious",
   "metadata": {},
   "source": [
    "We can see that around 70% of the basic blocks are filtered out by this heuristic."
   ]
  },
  {
   "cell_type": "markdown",
   "id": "administrative-pendant",
   "metadata": {},
   "source": [
    "The basic blocks we are interested in (`0xad84 -> 0xae7b` and `0xae7b -> 0xaf73`) are still part of this subset."
   ]
  },
  {
   "cell_type": "code",
   "execution_count": null,
   "id": "false-reduction",
   "metadata": {},
   "outputs": [],
   "source": [
    "for entry in data_1:\n",
    "    if entry['bbl']['image_name'] == '7za' and entry['bbl']['image_offset_begin'] in [0xad84, 0xae7b]:\n",
    "        print(entry)\n",
    "        print(hex(entry['bbl']['image_offset_begin']))\n",
    "        print(hex(entry['bbl']['image_offset_end']))\n",
    "        print('-' * 100)"
   ]
  },
  {
   "cell_type": "markdown",
   "id": "presidential-luxembourg",
   "metadata": {},
   "source": [
    "Where do the other basic blocks come from?"
   ]
  },
  {
   "cell_type": "code",
   "execution_count": null,
   "id": "according-waterproof",
   "metadata": {},
   "outputs": [],
   "source": [
    "def print_routine_names():\n",
    "    routines = [entry['bbl']['routine_name'] for entry in data_1]\n",
    "    \n",
    "    from collections import Counter\n",
    "    \n",
    "    counts = Counter(routines).most_common()\n",
    "    \n",
    "    for item in counts:\n",
    "        print(f'{item[1]} {item[0]:30}')\n",
    "\n",
    "print_routine_names()"
   ]
  },
  {
   "cell_type": "markdown",
   "id": "annual-explorer",
   "metadata": {},
   "source": [
    "These basic blocks fall in the following categories:\n",
    "- Related to AES encryption\n",
    "- Related to LZMA compression\n",
    "- Related to CRC error detection\n",
    "- The `get_pc_thunk` for some reason???"
   ]
  },
  {
   "cell_type": "markdown",
   "id": "italian-biography",
   "metadata": {},
   "source": [
    "Can we filter these further with the entropy of read/written values, as K-Hunt does?"
   ]
  },
  {
   "cell_type": "markdown",
   "id": "f42b9698-de68-4032-b657-1a0976375d6e",
   "metadata": {},
   "source": [
    "Let's define a function that evaluates how \"random\" a basic block is, based on the byte-Shannon entropy of the values read/written by its instructions."
   ]
  },
  {
   "cell_type": "code",
   "execution_count": null,
   "id": "b542e01e-2886-4645-896a-13cd50f2d419",
   "metadata": {},
   "outputs": [],
   "source": [
    "def basic_block_randomness(bbl):\n",
    "    # Obtain the list of instructions that are part of this basic block.\n",
    "    insns = db.run_list(get_query(\n",
    "        Instruction(\n",
    "            P('image_name') == bbl['image_name'],\n",
    "            P('image_offset') >= bbl['image_offset_begin'],\n",
    "            P('image_offset') < bbl['image_offset_end']\n",
    "        ).bind('ins')\n",
    "    ))\n",
    "    \n",
    "    # Get the prefixes for all different inputs.\n",
    "    input_sizes = np.array([1000 * size_kb for size_kb in sizes_kb])\n",
    "    \n",
    "    randomness = 0\n",
    "    \n",
    "    # Get a randomness score for each instruction, and take the maximum of all instruction randomnesses to get the randomness of the basic block.\n",
    "    for ins in insns:\n",
    "        for input_size in input_sizes:\n",
    "            randomness = max(randomness, ins['ins'][f'input_{input_size}_read_values_entropy'] or 0.0)\n",
    "            randomness = max(randomness, ins['ins'][f'input_{input_size}_written_values_entropy'] or 0.0)\n",
    "            \n",
    "    return randomness\n",
    "\n",
    "print(f'{\"Offset range\":26} {\"Routine name\":30} {\"Randomness of data produced/consumed\"}')\n",
    "print('=' * 94)\n",
    "for entry in sorted(data_1, key=lambda entry: entry['bbl']['image_offset_begin']):\n",
    "    print(f\"{hex(entry['bbl']['image_offset_begin']):8} -> {hex(entry['bbl']['image_offset_end']):15}\"\n",
    "          f\"{entry['bbl']['routine_name']:30} {basic_block_randomness(entry['bbl'])}\")"
   ]
  },
  {
   "cell_type": "markdown",
   "id": "e8cfd925-3e78-45cc-bdbf-d4d895ec2995",
   "metadata": {},
   "source": [
    "Let's filter out all basic blocks which have randomness < 0.9:"
   ]
  },
  {
   "cell_type": "code",
   "execution_count": null,
   "id": "8af570d8-34a7-4a70-b3fd-f9dc05342525",
   "metadata": {},
   "outputs": [],
   "source": [
    "data_2 = [entry for entry in data_1 if basic_block_randomness(entry['bbl']) >= 0.9]\n",
    "\n",
    "print(f'{len(data_2)} out of {len(data_1)} basic blocks left with high randomness.')"
   ]
  },
  {
   "cell_type": "markdown",
   "id": "worth-jaguar",
   "metadata": {},
   "source": [
    "We can also use the differential analysis of K-Hunt: run 7-Zip with and without encryption, and only consider basic blocks that are executed when encryption is on but not when encryption is off."
   ]
  },
  {
   "cell_type": "code",
   "execution_count": null,
   "id": "smart-conclusion",
   "metadata": {},
   "outputs": [],
   "source": [
    "for entry in sorted(data_2, key=lambda x: x['bbl']['image_offset_begin']):\n",
    "    num_executions_crypto = entry['bbl']['input_1000_num_executions'] or 0\n",
    "    num_executions_non_crypto = entry['bbl']['input_1000_noenc_num_executions'] or 0\n",
    "\n",
    "    if num_executions_crypto > 0 and num_executions_non_crypto == 0:\n",
    "        print(f\"{hex(entry['bbl']['image_offset_begin'])} -> {hex(entry['bbl']['image_offset_end']):15}\"\n",
    "              f\"{entry['bbl']['routine_name']:20} {num_executions_crypto:4} {num_executions_non_crypto:4}\")"
   ]
  },
  {
   "cell_type": "markdown",
   "id": "mental-slave",
   "metadata": {},
   "source": [
    "We thus found the basic blocks implementing the AES encryption!"
   ]
  },
  {
   "cell_type": "markdown",
   "id": "editorial-ballot",
   "metadata": {},
   "source": [
    "#### Finding cryptographic key"
   ]
  },
  {
   "cell_type": "markdown",
   "id": "appointed-bargain",
   "metadata": {},
   "source": [
    "Now let's find the key starting from those crypto basic blocks.\n",
    "\n",
    "We start with all instructions that read from memory and that occur in these basic blocks."
   ]
  },
  {
   "cell_type": "code",
   "execution_count": null,
   "id": "invalid-canyon",
   "metadata": {},
   "outputs": [],
   "source": [
    "insns = db.run_list(get_query(\n",
    "    Instruction(\n",
    "        P('image_offset') >= 0xad46,\n",
    "        P('image_offset') < 0xb0d1,\n",
    "        P('input_1000_num_unique_byte_addresses_read') > 0\n",
    "    ).bind('ins')\n",
    "))"
   ]
  },
  {
   "cell_type": "markdown",
   "id": "duplicate-bailey",
   "metadata": {},
   "source": [
    "K-Hunt's first criterion to locate keys is based on the size of memory buffers, i.e. the number of distinct byte addresses that an instruction reads.\n",
    "\n",
    "Because the key is typically relatively small, we can look for instructions that read from a limited number of byte addresses."
   ]
  },
  {
   "cell_type": "code",
   "execution_count": null,
   "id": "warming-fireplace",
   "metadata": {},
   "outputs": [],
   "source": [
    "def plot_num_unique_byte_addresses_distribution():\n",
    "    size = 1000\n",
    "    \n",
    "    x = [entry['ins'][f'input_{size}_num_unique_byte_addresses_read'] for entry in insns]\n",
    "    \n",
    "    plt.title('Distribution of num_unique_byte_addresses_read')\n",
    "    plt.xlabel(f\"input_{size}_num_unique_byte_addresses_read\")\n",
    "    plt.ylabel('Absolute frequency')\n",
    "    plt.hist(x, bins=30)\n",
    "    \n",
    "plot_num_unique_byte_addresses_distribution()"
   ]
  },
  {
   "cell_type": "markdown",
   "id": "southwest-paint",
   "metadata": {},
   "source": [
    "Unfortunately, most instructions read from a relative limited set of addresses."
   ]
  },
  {
   "cell_type": "markdown",
   "id": "silver-strap",
   "metadata": {},
   "source": [
    "Another way in which we can find the key is to look at the variance of the number of unique addresses read from over different input sizes.\n",
    "\n",
    "Because the key is of fixed length, we expect this variance to be close to $0$ for the instruction that reads the key."
   ]
  },
  {
   "cell_type": "code",
   "execution_count": null,
   "id": "answering-globe",
   "metadata": {},
   "outputs": [],
   "source": [
    "def calculate_standard_deviation(entry):\n",
    "    x_labels = np.array([1000 * size_kb for size_kb in sizes_kb])\n",
    "    y_labels = np.array([entry['ins'][f'input_{x}_num_unique_byte_addresses_read'] for x in x_labels])\n",
    "        \n",
    "    # Remove entries with None\n",
    "    mask = y_labels != None\n",
    "    \n",
    "    x_labels = x_labels[mask]\n",
    "    y_labels = y_labels[mask]\n",
    "        \n",
    "    # Calculate standard deviation\n",
    "    return np.std(y_labels.astype(float))\n",
    "\n",
    "def plot_std_distribution():\n",
    "    x = [calculate_standard_deviation(entry) for entry in insns]\n",
    "    \n",
    "    plt.title('Distribution of $\\sigma$ values of num_unique_byte_addresses_read')\n",
    "    plt.xlabel(\"Standard deviation of num_unique_byte_addresses_read ($\\sigma$)\")\n",
    "    plt.ylabel('Absolute frequency')\n",
    "    plt.hist(x, bins=20)\n",
    "    \n",
    "plot_std_distribution()"
   ]
  },
  {
   "cell_type": "markdown",
   "id": "educated-tribute",
   "metadata": {},
   "source": [
    "Unfortunately, both heuristics include the instructions that read the key, and instructions that read the input.\n",
    "\n",
    "This is because 7-Zip uses AES in a CBC scheme:"
   ]
  },
  {
   "attachments": {
    "9dac11f5-462e-4f9d-98a5-2dab6f98bce0.png": {
     "image/png": "[encoded data removed]"
    }
   },
   "cell_type": "markdown",
   "id": "treated-directive",
   "metadata": {},
   "source": [
    "<div>\n",
    "<img src=\"attachment:9dac11f5-462e-4f9d-98a5-2dab6f98bce0.png\" width=\"800\">\n",
    "</div>"
   ]
  },
  {
   "cell_type": "markdown",
   "id": "fixed-catalog",
   "metadata": {},
   "source": [
    "The input to the cryptographic basic blocks is $\\text{plaintext}_{i} \\oplus \\text{ciphertext}_{i-1}$, which is precalculated and stored in the same buffer in each iteration.\n",
    "\n",
    "As such, the number of addresses read by the instructions that read the input is also constant w.r.t. to the input size."
   ]
  },
  {
   "cell_type": "markdown",
   "id": "complex-stretch",
   "metadata": {},
   "source": [
    "We can also try a differential analysis: run 7-Zip with different inputs, and record the values read by each instruction.\n",
    "\n",
    "Because the key is constant, we can find it by looking at instructions that always read the same value."
   ]
  },
  {
   "cell_type": "code",
   "execution_count": null,
   "id": "empty-ozone",
   "metadata": {},
   "outputs": [],
   "source": [
    "for entry in insns:\n",
    "    if len(set(entry['ins'][f'input_{size_kb * 1000}_read_values'] for size_kb in sizes_kb)) == 1:\n",
    "        print(hex(entry['ins']['image_offset']), set(entry['ins'][f'input_{size_kb * 1000}_read_values'] for size_kb in sizes_kb))"
   ]
  },
  {
   "cell_type": "markdown",
   "id": "composed-vanilla",
   "metadata": {},
   "source": [
    "Let's start with the first of these instructions at `0xad52`, and look at the contents of the buffer its memory operand points to.\n",
    "\n",
    "We will do so by running 7-Zip in the debugger LLDB and setting a breakpoint at that location."
   ]
  },
  {
   "cell_type": "code",
   "execution_count": null,
   "id": "future-stroke",
   "metadata": {},
   "outputs": [],
   "source": [
    "# Copy the input PDF file to the debugger container\n",
    "lldb_module.upload_file(os.path.join(Workspace.current.path, 'test.pdf'), 'test.pdf')\n",
    "\n",
    "# Remove the test.7z file, if it exists already\n",
    "lldb_module.run_shell_command('rm test.7z')\n",
    "\n",
    "# Create a target for 7-Zip\n",
    "target = lldb_module.debugger.CreateTarget(os.path.join(Workspace.current.path, '7za'))\n",
    "assert(target)\n",
    "\n",
    "# Set a breakpoint at 0xad52\n",
    "bp_addr = lldb_module.resolve_address(target, '7za', 0xad52)\n",
    "bp = target.BreakpointCreateBySBAddress(bp_addr)\n",
    "print(bp)\n",
    "\n",
    "# Run the application, stopping at that instruction\n",
    "process = target.LaunchSimple(['-mmt1', '-psecret', 'a', 'test.7z', 'test.pdf'], None, None)\n",
    "try:\n",
    "    # Print the instruction opcode corresponding to the breakpoint\n",
    "    assert(process)\n",
    "    print(process)\n",
    "    \n",
    "    assert(process.GetState() == lldb.eStateStopped)\n",
    "    \n",
    "    thread = process.GetSelectedThread()\n",
    "    assert(thread)\n",
    "    print(thread)\n",
    "    \n",
    "    frame = thread.GetFrameAtIndex(0)\n",
    "    assert(frame)\n",
    "    print(frame)\n",
    "    \n",
    "    instructions = target.ReadInstructions(frame.GetPCAddress(), 1)\n",
    "    for ins in instructions:\n",
    "        print(ins)\n",
    "        \n",
    "    # Print the value of %eax for that instruction (i.e. the address of the buffer)\n",
    "    memory_operand = int(frame.FindRegister('eax').GetValue(), 16)\n",
    "    print('eax =', hex(memory_operand))\n",
    "    buffer_address = lldb.SBAddress(memory_operand, target)\n",
    "    \n",
    "    # Read the memory contents of the buffer\n",
    "    err = lldb.SBError()\n",
    "    buffer_contents = target.ReadMemory(buffer_address, 240, err)\n",
    "    assert(err.Success())\n",
    "    \n",
    "    # Pretty print the buffer contents\n",
    "    print('Buffer contents:')\n",
    "    i = 0\n",
    "    for byte in buffer_contents:\n",
    "        print(format(byte, '02x'), end=' ')\n",
    "        i = i + 1\n",
    "        \n",
    "        if i % 16 == 0:\n",
    "            print()\n",
    "finally:\n",
    "    # Kill process. This is necessary to restart it later.\n",
    "    process.Kill()"
   ]
  },
  {
   "cell_type": "markdown",
   "id": "continued-concrete",
   "metadata": {},
   "source": [
    "We can see that these values correspond to the values read by the other instructions that we found.\n",
    "\n",
    "For example, `0xad5a` reads `65 11 f1 50`, `0xad64` reads `7a 3c 2a 98`, `0xad6a` reads `2a e6 de f4`, `0xad70` reads `f6 58 18 ed`, and so on.\n",
    "\n",
    "If the attacker knows that the cryptographic code implement an AES-256 symmetric cipher, he can make the assumption that the contents of this buffer are the round keys.\n",
    "\n",
    "For AES, each round key is 16 bytes (128 bits) long, and is calculated from the key using the AES key schedule:\n",
    "\n",
    "$$\n",
    "W_i =\n",
    "\\begin{cases}\n",
    "    K_i & \\text{if } i < N \\\\\n",
    "    W_{i-N} \\oplus \\text{SubWord}(\\text{RotWord}(W_{i-1})) \\oplus \\text{rcon}_{i / N} & \\text{if } i \\geq N \\text{ and } i \\equiv 0 \\pmod{N} \\\\\n",
    "    W_{i-N} \\oplus \\text{SubWord}(W_{i-1}) & \\text{if } i \\geq N > 6 \\text{ and } i \\equiv 4 \\pmod{N} \\\\\n",
    "    W_{i-N} \\oplus W_{i-1} & \\text{otherwise}\n",
    "\\end{cases}\n",
    "$$\n",
    "\n",
    "where $W_i$ is the $i$th 32-bit word of the expanded key, $K_i$ is the $i$th 32-bit word of the original key, and $N$ is the length of the key.\n",
    "\n",
    "In other words, the first 32 bytes of the buffer contents after `0x07 00 .. 00` above are precisely the AES key we are looking for:\n",
    "```\n",
    "AES key =\n",
    "        65 11 f1 50 7a 3c 2a 98 2a e6 de f4 f6 58 18 ed\n",
    "        6c f2 42 65 1a ca 19 d1 5c eb c6 a6 7a e2 89 1d\n",
    "```"
   ]
  },
  {
   "cell_type": "code",
   "execution_count": null,
   "id": "endless-berkeley",
   "metadata": {},
   "outputs": [],
   "source": [
    "print('AES Key:')\n",
    "for byte in buffer_contents[16:48]:\n",
    "    print(format(byte, '02x'), end=' ')"
   ]
  },
  {
   "cell_type": "markdown",
   "id": "psychological-bernard",
   "metadata": {},
   "source": [
    "To verify whether we have found the right key, we add the following excerpt to the end of `CKeyInfo::CalcKey()` in `CPP/7zip/Crypto/7zAes.cpp`, which implements the KDF:\n",
    "\n",
    "```cpp\n",
    "  std::cout << \"KEY: \";\n",
    "  for (unsigned int i = 0; i < kKeySize; ++i) {\n",
    "      std::cout << std::hex << (int)Key[i] << ' ';\n",
    "  }\n",
    "  std::cout << std::endl;\n",
    "```\n",
    "\n",
    "which prints the following to stdout:\n",
    "\n",
    "```\n",
    "KEY: 65 11 f1 50 7a 3c 2a 98 2a e6 de f4 f6 58 18 ed 6c f2 42 65 1a ca 19 d1 5c eb c6 a6 7a e2 89 1d \n",
    "```"
   ]
  },
  {
   "cell_type": "markdown",
   "id": "dried-member",
   "metadata": {},
   "source": [
    "This means we succeeded in finding the crypto key."
   ]
  },
  {
   "cell_type": "markdown",
   "id": "every-horizontal",
   "metadata": {},
   "source": [
    "**TODO:** Find key using second heuristic in K-Hunt: follow data dependencies. Key comes from `argv` in the case of 7-Zip, input comes from file."
   ]
  },
  {
   "cell_type": "markdown",
   "id": "612c523e-9b15-4bef-8c2d-b0c7bc806192",
   "metadata": {
    "tags": []
   },
   "source": [
    "#### Data dependency graph"
   ]
  },
  {
   "cell_type": "markdown",
   "id": "734140b5-d7d3-401b-90a6-d2b63d99d241",
   "metadata": {
    "tags": []
   },
   "source": [
    "##### Create GDS graph"
   ]
  },
  {
   "cell_type": "code",
   "execution_count": null,
   "id": "a4c67639-8d8a-4b50-8740-51f2f7d7e89b",
   "metadata": {},
   "outputs": [],
   "source": [
    "# Create GDS graph.\n",
    "if db.run_evaluate('''CALL gds.graph.exists('data_dependencies') YIELD exists'''):\n",
    "    db.run('''\n",
    "           CALL gds.graph.drop('data_dependencies')\n",
    "           ''')\n",
    "\n",
    "db.run('''\n",
    "       CALL gds.graph.project.cypher(\n",
    "           // Graph name\n",
    "           'data_dependencies',\n",
    "           \n",
    "           // Node query\n",
    "           'MATCH (n:Instruction)\n",
    "            RETURN id(n) AS id',\n",
    "           \n",
    "           // Relationship query\n",
    "           'MATCH (n:Instruction) -[r:DEPENDS_ON]-> (m:Instruction)\n",
    "            WHERE (r.register IS NULL) OR (NOT r.register IN $blacklisted_regs)\n",
    "            RETURN id(n) AS source, id(m) AS target',\n",
    "            \n",
    "            // Parameters\n",
    "            {\n",
    "                parameters: { blacklisted_regs: [\"rsp\", \"esp\", \"rip\", \"eip\"] }\n",
    "            }\n",
    "        )\n",
    "       ''')"
   ]
  },
  {
   "cell_type": "markdown",
   "id": "10c73302-7203-4a90-bbd0-b136f3e8ed11",
   "metadata": {},
   "source": [
    "##### Dijkstra single-source (shortest paths)"
   ]
  },
  {
   "cell_type": "code",
   "execution_count": null,
   "id": "9bf8128f-2be1-4b9f-9932-154ebd798368",
   "metadata": {
    "tags": []
   },
   "outputs": [],
   "source": [
    "# Find dependencies of some instructions in the AES basic blocks:\n",
    "# - 0xad5a: reads the AES key\n",
    "# - 0xad52: reads the round trip count\n",
    "# - 0xae51: reads something that varies for every execution (input?)\n",
    "\n",
    "dependent_instructions = {offset: db.run_list(f'''\n",
    "MATCH (source:Instruction {{image_name: '7za', image_offset: {offset}}})\n",
    "CALL gds.allShortestPaths.dijkstra.stream('data_dependencies', {{\n",
    "    sourceNode: id(source)\n",
    "}})\n",
    "YIELD index, sourceNode, targetNode, totalCost, nodeIds, costs, path\n",
    "RETURN *\n",
    "''') for offset in [0xad5a, 0xad52, 0xae51]}"
   ]
  },
  {
   "cell_type": "code",
   "execution_count": null,
   "id": "ab892124-53f8-4c77-80dd-3e821c614b9f",
   "metadata": {
    "tags": []
   },
   "outputs": [],
   "source": [
    "# Get the node IDs of instructions in the KDF function (NCrypto::N7z::CKeyInfo::CalcKey())\n",
    "kdf_node_keys = {entry['id']: entry['image_offset'] \n",
    " for entry in \n",
    " db.run_list('''\n",
    "        MATCH (n:Instruction)\n",
    "        WHERE n.image_name = \"7za\"\n",
    "        AND 0xb27aa <= n.image_offset <= 0xb2a29\n",
    "        RETURN id(n) AS id, n.image_offset AS image_offset\n",
    "        ''')\n",
    "}"
   ]
  },
  {
   "cell_type": "code",
   "execution_count": null,
   "id": "326ab96c-53f5-4347-b226-86fbc6a11bed",
   "metadata": {
    "tags": []
   },
   "outputs": [],
   "source": [
    "def pretty_print_path(ins):\n",
    "    nodeIds = ins['nodeIds']\n",
    "    for i, nodeId in enumerate(nodeIds):\n",
    "        node = db.run_evaluate(f'''\n",
    "                      MATCH (n)\n",
    "                      WHERE id(n) = {nodeId}\n",
    "                      RETURN (n)\n",
    "                      ''')\n",
    "        \n",
    "        \n",
    "        print(\n",
    "              f'''{i:2}: {node['image_name']}+{hex(node['image_offset']):10}'''\n",
    "              f''' {node['opcode']:8} {node['operands']:35}'''\n",
    "              f''' {cxxfilt.demangle(node['routine_name']):75}'''\n",
    "              f''' {os.path.abspath(node['DEBUG_filename'] or '/')}:{node['DEBUG_line']}:{node['DEBUG_column']}'''\n",
    "        )\n",
    "\n",
    "for key in dependent_instructions.keys():\n",
    "    for ins in dependent_instructions[key]:\n",
    "        target_id = ins['targetNode']\n",
    "        cost = ins['totalCost']\n",
    "        \n",
    "        if target_id in kdf_node_keys.keys():\n",
    "            offset = kdf_node_keys[target_id]\n",
    "            print(f'Found path of cost {cost} from {hex(key)} to {hex(offset)} (in KDF)')\n",
    "            pretty_print_path(ins)\n",
    "            print()\n",
    "            \n",
    "    print('-' * 200)"
   ]
  },
  {
   "cell_type": "markdown",
   "id": "3649c99e-65a6-4481-b985-822407ed49fc",
   "metadata": {},
   "source": [
    "##### Breadth first search"
   ]
  },
  {
   "cell_type": "code",
   "execution_count": null,
   "id": "78c6fbe4-e6d8-4c2e-8145-ec12abeab871",
   "metadata": {},
   "outputs": [],
   "source": [
    "# - using same filtered graph as before (dependencies through %rsp and %rip ignored)\n",
    "# - start at a given node\n",
    "# - terminate when either a given node is reached, or when a given max depth is reached\n",
    "# - returns all visited nodes, in the order that they are visited\n",
    "\n",
    "for entry in db.run_list('''\n",
    "       MATCH (source:Instruction {image_name: '7za', image_offset: 0xad5a})\n",
    "       CALL gds.bfs.stream('data_dependencies', {\n",
    "           sourceNode: id(source),\n",
    "           maxDepth: 2\n",
    "       })\n",
    "       YIELD path\n",
    "       UNWIND [ n in nodes(path) ] AS node\n",
    "       RETURN node.image_name, node.image_offset\n",
    "       '''):\n",
    "    print(entry)"
   ]
  },
  {
   "cell_type": "code",
   "execution_count": null,
   "id": "700831ac-95fc-4991-be56-dc82fbc4cd23",
   "metadata": {},
   "outputs": [],
   "source": [
    "# number of nodes that need to be visited = rank of node\n",
    "for i, entry in enumerate(db.run_list('''\n",
    "       MATCH (source:Instruction {image_name: '7za', image_offset: 0xad5a})\n",
    "       CALL gds.bfs.stream('data_dependencies', {\n",
    "           sourceNode: id(source),\n",
    "           maxDepth: 2\n",
    "       })\n",
    "       YIELD path\n",
    "       UNWIND [ n in nodes(path) ] AS node\n",
    "       RETURN node.image_name, node.image_offset\n",
    "       ''')):\n",
    "    print(f'{entry} requires analysis of {i+1} node(s).')"
   ]
  },
  {
   "cell_type": "code",
   "execution_count": null,
   "id": "fe23deb2-72d7-4a49-b205-44660232e658",
   "metadata": {},
   "outputs": [],
   "source": [
    "# by adding an attribute to each node containing its \"analysis cost\", we can\n",
    "# also estimate the total analysis effort required by an attacker.\n",
    "cumulative_cost = 0\n",
    "for i, entry in enumerate(db.run_list('''\n",
    "       MATCH (source:Instruction {image_name: '7za', image_offset: 0xad5a})\n",
    "       CALL gds.bfs.stream('data_dependencies', {\n",
    "           sourceNode: id(source),\n",
    "           maxDepth: 2\n",
    "       })\n",
    "       YIELD path\n",
    "       UNWIND [ n in nodes(path) ] AS node\n",
    "       RETURN node.image_name, node.image_offset, size(node.operands) AS analysis_cost\n",
    "       ''')):\n",
    "    cumulative_cost += entry['analysis_cost']\n",
    "    print(f'{entry} requires analysis of {i+1} node(s) with total cost {cumulative_cost}.')"
   ]
  },
  {
   "cell_type": "code",
   "execution_count": null,
   "id": "25bb6df4-4894-4e95-848c-bda841f22215",
   "metadata": {},
   "outputs": [],
   "source": [
    "# of course, this assumes a certain ordering of nodes.\n",
    "# ideally, we want to get average costs, under the assumption that we visit nodes at the same depth in a random order.\n",
    "# for this, we need the depth of each node, which is not returned by GDS's BFS, but is easy enough to find using Cypher in this case\n",
    "# (though this is not perfect, as it doesn't use the same graph with %rsp and %rip filtered, but rather the original database graph...)\n",
    "for i, entry in enumerate(db.run_list('''\n",
    "       MATCH (source:Instruction {image_name: '7za', image_offset: 0xad5a})\n",
    "       CALL gds.bfs.stream('data_dependencies', {\n",
    "           sourceNode: id(source),\n",
    "           maxDepth: 2\n",
    "       })\n",
    "       YIELD path\n",
    "       UNWIND [ n in nodes(path) ] AS node\n",
    "       RETURN node.image_name, node.image_offset, \n",
    "              CASE id(source)\n",
    "                  WHEN id(node) THEN 0\n",
    "                  ELSE length(shortestPath((source)-[:DEPENDS_ON*..2]->(node)))\n",
    "              END AS distance\n",
    "       ''')):\n",
    "    print(f'{entry} requires analysis of {i+1} node(s).')"
   ]
  },
  {
   "cell_type": "code",
   "execution_count": null,
   "id": "38312f85-2d42-4be8-a993-85b6974a7dcf",
   "metadata": {},
   "outputs": [],
   "source": [
    "# now we can print the average number of nodes that need to be visited (see num_nodes)\n",
    "data = db.run_list('''\n",
    "       MATCH (source:Instruction {image_name: '7za', image_offset: 0xad5a})\n",
    "       CALL gds.bfs.stream('data_dependencies', {\n",
    "           sourceNode: id(source),\n",
    "           maxDepth: 2\n",
    "       })\n",
    "       YIELD path\n",
    "       UNWIND [ n in nodes(path) ] AS node\n",
    "       RETURN node.image_name, node.image_offset, \n",
    "              CASE id(source)\n",
    "                  WHEN id(node) THEN 0\n",
    "                  ELSE length(shortestPath((source)-[:DEPENDS_ON*..2]->(node)))\n",
    "              END AS distance\n",
    "       ''')\n",
    "    \n",
    "_, distance_counters = np.unique([entry['distance'] for entry in data], return_counts = True)\n",
    "cumulative_distance_counters = np.cumsum(distance_counters)\n",
    "    \n",
    "print(f'distance_counters: {distance_counters}')\n",
    "print(f'cumulative_distance_counters: {cumulative_distance_counters}')\n",
    "print()\n",
    "\n",
    "for i, entry in enumerate(data):\n",
    "    dist = entry['distance']\n",
    "    # all nodes of < distance + Unif(1, number of nodes of = distance)\n",
    "    num_nodes = (cumulative_distance_counters[dist-1] if dist != 0 else 0) + (1 + distance_counters[dist]) / 2\n",
    "    print(f'{entry} requires analysis of {num_nodes} node(s) on average.')"
   ]
  },
  {
   "cell_type": "code",
   "execution_count": null,
   "id": "c864f952-cddd-4693-94bb-f60f6fce9e96",
   "metadata": {},
   "outputs": [],
   "source": [
    "# we can do something similar with average analysis cost (see avg_cost)\n",
    "data = db.run_list('''\n",
    "       MATCH (source:Instruction {image_name: '7za', image_offset: 0xad5a})\n",
    "       CALL gds.bfs.stream('data_dependencies', {\n",
    "           sourceNode: id(source),\n",
    "           maxDepth: 2\n",
    "       })\n",
    "       YIELD path\n",
    "       UNWIND [ n in nodes(path) ] AS node\n",
    "       RETURN node.image_name, node.image_offset, size(node.operands) AS analysis_cost,\n",
    "              CASE id(source)\n",
    "                  WHEN id(node) THEN 0\n",
    "                  ELSE length(shortestPath((source)-[:DEPENDS_ON*..2]->(node)))\n",
    "              END AS distance\n",
    "       ''')\n",
    "    \n",
    "total_cost_counters = [0] * 3\n",
    "\n",
    "for entry in data:\n",
    "    dist = entry['distance']\n",
    "    cost = entry['analysis_cost']\n",
    "    total_cost_counters[dist] += cost\n",
    "\n",
    "cumulative_total_cost_counters = np.cumsum(total_cost_counters)\n",
    "    \n",
    "print(f'total_cost_counters: {total_cost_counters}')\n",
    "print(f'cumulative_total_cost_counters: {cumulative_total_cost_counters}')\n",
    "print()\n",
    "\n",
    "for i, entry in enumerate(data):\n",
    "    dist = entry['distance']\n",
    "    cost = entry['analysis_cost']\n",
    "    # all nodes of < distance + node itself + 1/2 * other nodes of = distance\n",
    "    avg_cost = (cumulative_total_cost_counters[dist-1] if dist != 0 else 0) + cost + 1/2 * (total_cost_counters[dist] - cost)\n",
    "    print(f'{entry} requires analysis of a total cost of {avg_cost} on average.')"
   ]
  }
 ],
 "metadata": {
  "kernelspec": {
   "display_name": "Python 3 (ipykernel)",
   "language": "python",
   "name": "python3"
  },
  "language_info": {
   "codemirror_mode": {
    "name": "ipython",
    "version": 3
   },
   "file_extension": ".py",
   "mimetype": "text/x-python",
   "name": "python",
   "nbconvert_exporter": "python",
   "pygments_lexer": "ipython3",
   "version": "3.10.6"
  },
  "toc-autonumbering": true
 },
 "nbformat": 4,
 "nbformat_minor": 5
}
