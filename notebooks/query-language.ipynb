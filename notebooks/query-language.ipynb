{
 "cells": [
  {
   "cell_type": "markdown",
   "id": "093fe842-0ee0-48be-9304-beb7b63f0a65",
   "metadata": {},
   "source": [
    "# Query Language"
   ]
  },
  {
   "cell_type": "markdown",
   "id": "2af6001f-9346-4670-8e8a-3eed50887651",
   "metadata": {},
   "source": [
    "This notebook contains an overview of the query language built into the MATE attack framework."
   ]
  },
  {
   "cell_type": "markdown",
   "id": "c87c118f-ef68-4926-ba3e-3da662da2d0e",
   "metadata": {},
   "source": [
    "## Setup\n",
    "\n",
    "This section contains initial setup: loading the required libraries, starting the database container, etc."
   ]
  },
  {
   "cell_type": "code",
   "execution_count": null,
   "id": "b841431a-f596-4da7-b200-c91809abb302",
   "metadata": {},
   "outputs": [],
   "source": [
    "# Automatically reload modules.\n",
    "%load_ext autoreload\n",
    "%autoreload 2\n",
    "\n",
    "# Add project root to Python search path.\n",
    "import os\n",
    "import sys\n",
    "module_path = os.path.abspath(os.path.join('..'))\n",
    "if module_path not in sys.path:\n",
    "    sys.path.append(module_path)\n",
    "\n",
    "# Import all matchers and helper functions for the query language\n",
    "from query_language.expressions import *\n",
    "from query_language.node_matchers import *\n",
    "from query_language.traversal_matchers import *\n",
    "\n",
    "from query_language.get_query import get_query\n",
    "\n",
    "# Import MATE framework.\n",
    "from core.core import Core\n",
    "from core.workspace import Workspace\n",
    "\n",
    "from modules.basic_block_profiler import BasicBlockProfilerModule\n",
    "from modules.branch_profiler import BranchProfilerModule\n",
    "from modules.caballero import Caballero as CaballeroModule\n",
    "from modules.call_targets import CallTargetsModule\n",
    "from modules.data_dependencies import DataDependenciesModule\n",
    "from modules.instruction_info import InstructionInfoModule\n",
    "from modules.instruction_values import InstructionValuesModule\n",
    "from modules.memory_buffers import MemoryBuffersModule\n",
    "from modules.memory_instructions_profiler import MemoryInstructionsProfilerModule\n",
    "\n",
    "# Load workspaces from database.\n",
    "Workspace.load_from_db(Core())"
   ]
  },
  {
   "cell_type": "markdown",
   "id": "dbf622f8-24d7-4664-a49a-61c5961807db",
   "metadata": {},
   "source": [
    "## Collecting data\n",
    "\n",
    "The first step is to add data to the database."
   ]
  },
  {
   "cell_type": "code",
   "execution_count": null,
   "id": "ae406eb2-7a4d-442e-a902-a77cd7ea6960",
   "metadata": {
    "tags": []
   },
   "outputs": [],
   "source": [
    "def run_demo():\n",
    "    executable_path = Core().get_subdirectory('demos', 'coreutils', 'sha256sum')\n",
    "    binary_params = 'input.txt'\n",
    "    \n",
    "    Workspace.create_new('sha256sum', executable_path)\n",
    "    Workspace.select('sha256sum')\n",
    "    workspace = Workspace.current\n",
    "    \n",
    "    # Create input file\n",
    "    input_path = os.path.join(workspace.path, 'input.txt')\n",
    "    with open(input_path, 'w') as f:\n",
    "        f.write('Lorem ipsum dolor sit amet.')\n",
    "        \n",
    "    # (1) Basic block profiler\n",
    "    bbl_profiler = BasicBlockProfilerModule(binary_params=binary_params, timeout=0)\n",
    "    %time bbl_profiler.run()\n",
    "    \n",
    "    # (2) Branch profiler\n",
    "    branch_profiler = BranchProfilerModule(binary_params=binary_params, timeout=0)\n",
    "    %time branch_profiler.run()\n",
    "    \n",
    "    # (3) Caballero\n",
    "    caballero = CaballeroModule(ratio=0.3, binary_params=binary_params, timeout=0)\n",
    "    %time caballero.run()\n",
    "    \n",
    "    # (4) Call targets\n",
    "    call_targets = CallTargetsModule(binary_params=binary_params, timeout=0)\n",
    "    %time call_targets.run()\n",
    "    \n",
    "    # (5) Data dependencies\n",
    "    data_deps = DataDependenciesModule(binary_params=binary_params, timeout=0, shortcuts=False)\n",
    "    %time data_deps.run()\n",
    "    \n",
    "    # (6) Instruction info\n",
    "    instr_info = InstructionInfoModule(binary_params=binary_params, timeout=0)\n",
    "    %time instr_info.run()\n",
    "    \n",
    "    # (7) Instruction values\n",
    "    instr_values = InstructionValuesModule(binary_params=binary_params, timeout=0)\n",
    "    %time instr_values.run()\n",
    "    \n",
    "    # (8) Memory buffer\n",
    "    mem_buffers = MemoryBuffersModule(binary_params=binary_params, timeout=0)\n",
    "    %time mem_buffers.run()\n",
    "    \n",
    "    # (9) Memory instructions profiler\n",
    "    mem_instr = MemoryInstructionsProfilerModule(binary_params=binary_params, timeout=0)\n",
    "    %time mem_instr.run()\n",
    "\n",
    "run_demo()"
   ]
  },
  {
   "cell_type": "code",
   "execution_count": null,
   "id": "a3abf958-bc52-4a85-9481-031486369fd8",
   "metadata": {},
   "outputs": [],
   "source": [
    "Workspace.select('sha256sum')"
   ]
  },
  {
   "cell_type": "markdown",
   "id": "da629c7e-9b08-4f21-aa73-5f8b37783a16",
   "metadata": {},
   "source": [
    "## Examples\n",
    "\n",
    "This section contains example queries using the query language.\n",
    "\n",
    "Additionally, each query has the corresponding Cypher query listed.\n",
    "\n",
    "The correctness of the query language is also checked, by verifying that both the Cypher query and the query language output the same result."
   ]
  },
  {
   "cell_type": "code",
   "execution_count": null,
   "id": "f9d41f40-b0e8-4a61-84a6-86e9da03b509",
   "metadata": {},
   "outputs": [],
   "source": [
    "def test_query(matcher, cypher_query):\n",
    "    query = get_query(matcher)\n",
    "    \n",
    "    print('Matcher is converted to the following Cypher query:')\n",
    "    print()\n",
    "    print(query)\n",
    "    \n",
    "    db = Workspace.current.graph\n",
    "    \n",
    "    result = db.run_debug_json(query)\n",
    "    cypher_result = db.run_debug_json(cypher_query)\n",
    "    \n",
    "    assert result == cypher_result, \"Results from queries do not match!\"\n",
    "    assert len(result) > 0, \"Useless query example: query does not return any results\"\n",
    "    \n",
    "    print(f\"{len(result)} result(s) match.\")"
   ]
  },
  {
   "cell_type": "code",
   "execution_count": null,
   "id": "0d985762-4b97-4d24-bc60-f028c3c6944f",
   "metadata": {},
   "outputs": [],
   "source": [
    "matcher = \\\n",
    "MemoryBuffer(\n",
    ").bind(\"data_buffer\")\n",
    "\n",
    "test_query(matcher, 'MATCH (data_buffer:MemoryBuffer) RETURN data_buffer')"
   ]
  },
  {
   "cell_type": "code",
   "execution_count": null,
   "id": "a4039c4a-35ad-42db-89eb-e35814a81f1b",
   "metadata": {},
   "outputs": [],
   "source": [
    "matcher = \\\n",
    "Instruction(\n",
    "    dependsOn(\n",
    "        Instruction(\n",
    "            P(\"opcode\") == \"add\"\n",
    "        ).bind(\"add_op\")\n",
    "    ),\n",
    "    P(\"num_executions\") == P(\"add_op\", \"num_executions\")\n",
    ").bind(\"ins\")\n",
    "\n",
    "test_query(matcher, \n",
    "           '''\n",
    "           MATCH (ins:Instruction) -[:DEPENDS_ON]-> (add_op:Instruction)\n",
    "           WHERE ins.num_executions = add_op.num_executions AND add_op.opcode = \"add\"\n",
    "           RETURN ins, add_op\n",
    "           ''')"
   ]
  },
  {
   "cell_type": "code",
   "execution_count": null,
   "id": "599dba3f-5bad-460d-a66d-497a709b0cb8",
   "metadata": {},
   "outputs": [],
   "source": [
    "matcher = \\\n",
    "Instruction(\n",
    "    dependsOn(\n",
    "        Instruction().bind(\"ins2\"),\n",
    "        P(\"register\") != \"rsp\"\n",
    "    )\n",
    ").bind(\"ins1\")\n",
    "\n",
    "test_query(matcher, \n",
    "           '''\n",
    "           MATCH (ins1:Instruction) -[dep:DEPENDS_ON]-> (ins2:Instruction)\n",
    "           WHERE dep.register <> \"rsp\"\n",
    "           RETURN ins1, ins2\n",
    "           ''')"
   ]
  },
  {
   "cell_type": "code",
   "execution_count": null,
   "id": "8a6a5c8e-d7a7-4232-8a3d-f23ea75b3d99",
   "metadata": {},
   "outputs": [],
   "source": [
    "matcher = \\\n",
    "Instruction(\n",
    "    dependsOn(\n",
    "        Instruction().bind(\"ins2\"),\n",
    "        P(\"register\") != \"rsp\"\n",
    "    ).bind(\"dep\")\n",
    ").bind(\"ins1\")\n",
    "\n",
    "test_query(matcher, \n",
    "           '''\n",
    "           MATCH (ins1:Instruction) -[dep:DEPENDS_ON]-> (ins2:Instruction)\n",
    "           WHERE dep.register <> \"rsp\"\n",
    "           RETURN ins1, ins2, dep\n",
    "           ''')"
   ]
  },
  {
   "cell_type": "code",
   "execution_count": null,
   "id": "82c024e9-ef36-4a7e-96db-91c6e7ed3979",
   "metadata": {},
   "outputs": [],
   "source": [
    "matcher = \\\n",
    "Instruction(\n",
    "    dependsOn(\n",
    "        Instruction().bind(\"ins2\"),\n",
    "        ((P(\"register\") != \"rsp\") & (P(\"register\") != \"rip\")) | is_null(P(\"register\"))\n",
    "    ).bind(\"dep\")\n",
    ").bind(\"ins1\")\n",
    "\n",
    "test_query(matcher,\n",
    "           '''\n",
    "           MATCH (ins1:Instruction) -[dep:DEPENDS_ON]-> (ins2:Instruction)\n",
    "           WHERE (dep.register <> \"rsp\" AND dep.register <> \"rip\") OR dep.register IS NULL\n",
    "           RETURN ins1, ins2, dep\n",
    "           ''')"
   ]
  }
 ],
 "metadata": {
  "kernelspec": {
   "display_name": "Python 3 (ipykernel)",
   "language": "python",
   "name": "python3"
  },
  "language_info": {
   "codemirror_mode": {
    "name": "ipython",
    "version": 3
   },
   "file_extension": ".py",
   "mimetype": "text/x-python",
   "name": "python",
   "nbconvert_exporter": "python",
   "pygments_lexer": "ipython3",
   "version": "3.10.6"
  }
 },
 "nbformat": 4,
 "nbformat_minor": 5
}
